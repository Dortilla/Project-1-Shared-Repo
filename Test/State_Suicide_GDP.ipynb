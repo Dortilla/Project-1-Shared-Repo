{
 "cells": [
  {
   "cell_type": "markdown",
   "id": "6e74efb4",
   "metadata": {},
   "source": [
    "# Suicide vs GDP at the State Level (United States of America)"
   ]
  },
  {
   "cell_type": "code",
   "execution_count": null,
   "id": "993e2b22",
   "metadata": {},
   "outputs": [],
   "source": [
    "# dependencies\n",
    "import pandas as pd\n",
    "import matplotlib.pyplot as plt\n",
    "import scipy.stats as st"
   ]
  },
  {
   "cell_type": "markdown",
   "id": "d5ef9072",
   "metadata": {},
   "source": [
    "## Data exploration and Cleanup"
   ]
  },
  {
   "cell_type": "markdown",
   "id": "63901dc1",
   "metadata": {},
   "source": [
    "### Read CSVs"
   ]
  },
  {
   "cell_type": "code",
   "execution_count": null,
   "id": "c8869270",
   "metadata": {},
   "outputs": [],
   "source": [
    "# https://apps.bea.gov/regional/downloadzip.cfm - website for below info\n",
    "# read in GDP csv into notebook\n",
    "gdp_file = \"BEA_GDP_DATA_mulitple_years.csv\"\n",
    "df_state_gdp = pd.read_csv(gdp_file)\n",
    "df_state_gdp.head()"
   ]
  },
  {
   "cell_type": "code",
   "execution_count": null,
   "id": "bc22d639",
   "metadata": {},
   "outputs": [],
   "source": [
    "# read in suicide rate csv\n",
    "sui_file = \"suicide_rate_state.csv\"\n",
    "sui_df = pd.read_csv(sui_file)\n",
    "sui_df.head()"
   ]
  },
  {
   "cell_type": "markdown",
   "id": "44f59c44",
   "metadata": {},
   "source": [
    "### Perform cleanup on GDP DataFrame"
   ]
  },
  {
   "cell_type": "code",
   "execution_count": null,
   "id": "1205a10b",
   "metadata": {},
   "outputs": [],
   "source": [
    "#drop NA info\n",
    "df_state_gdp = df_state_gdp.dropna()\n",
    "# remove rows besides the REAL GDP row associated with LineCode 1.0\n",
    "df_state_gdp = df_state_gdp.loc[df_state_gdp[\"LineCode\"] == 1.0, :]\n",
    "df_state_gdp.head(40)"
   ]
  },
  {
   "cell_type": "code",
   "execution_count": null,
   "id": "955b913d",
   "metadata": {},
   "outputs": [],
   "source": [
    "# drop additional columns\n",
    "df_state_gdp = df_state_gdp.drop(columns = {\"LineCode\", \"TableName\", \"Region\", \"GeoFIPS\"})"
   ]
  },
  {
   "cell_type": "code",
   "execution_count": null,
   "id": "35c41d87",
   "metadata": {},
   "outputs": [],
   "source": [
    "# melt all the row columns so they are rows within the DF\n",
    "state_gdp_melt = df_state_gdp.melt(id_vars=['GeoName', 'Description', \"Unit\"], \n",
    "              value_vars=['1997','1998', '1999', '2000', '2001', '2002', '2003', '2004', '2005', '2006',\n",
    "       '2007', '2008', '2009', '2010', '2011', '2012', '2013', '2014', '2015',\n",
    "       '2016', '2017', '2018', '2019', '2020', '2021'],\n",
    "              var_name='Year', value_name='GDP')\n",
    "state_gdp_melt"
   ]
  },
  {
   "cell_type": "code",
   "execution_count": null,
   "id": "cce66f90",
   "metadata": {},
   "outputs": [],
   "source": [
    "# drop the additonal description/unit columns - NOTE THAT THE GDP is in Millions\n",
    "state_gdp_melt = state_gdp_melt.drop(columns = {\"Description\", \"Unit\"})"
   ]
  },
  {
   "cell_type": "code",
   "execution_count": null,
   "id": "6c806cd1",
   "metadata": {},
   "outputs": [],
   "source": [
    "#drop year columns that the suicide CSV does not contain\n",
    "state_gdp_melt = state_gdp_melt.loc[(state_gdp_melt[\"Year\"] != \"1997\")]\n",
    "state_gdp_melt = state_gdp_melt.loc[(state_gdp_melt[\"Year\"] != \"1998\")]\n",
    "state_gdp_melt = state_gdp_melt.loc[(state_gdp_melt[\"Year\"] != \"2021\")]\n",
    "\n",
    "#rename the Geoname column and GDP column\n",
    "state_gdp_melt = state_gdp_melt.rename(columns = {\"GeoName\": \"State\", \"GDP\" :\"GDP (in millions)\"})\n",
    "\n",
    "# locate and remove rows that are not States\n",
    "state_gdp_melt = state_gdp_melt.loc[(state_gdp_melt[\"State\"] != \"United States\")]\n",
    "state_gdp_melt = state_gdp_melt.loc[(state_gdp_melt[\"State\"] != \"New England\")]\n",
    "state_gdp_melt = state_gdp_melt.loc[(state_gdp_melt[\"State\"] != \"Mideast\")]\n",
    "state_gdp_melt = state_gdp_melt.loc[(state_gdp_melt[\"State\"] != \"Great Lakes\")]\n",
    "state_gdp_melt = state_gdp_melt.loc[(state_gdp_melt[\"State\"] != \"Plains\")]\n",
    "state_gdp_melt = state_gdp_melt.loc[(state_gdp_melt[\"State\"] != \"Southeast\")]\n",
    "state_gdp_melt = state_gdp_melt.loc[(state_gdp_melt[\"State\"] != \"Southwest\")]\n",
    "state_gdp_melt = state_gdp_melt.loc[(state_gdp_melt[\"State\"] != \"Rocky Mountain\")]\n",
    "state_gdp_melt = state_gdp_melt.loc[(state_gdp_melt[\"State\"] != \"Far West\")]\n",
    "state_gdp_melt"
   ]
  },
  {
   "cell_type": "code",
   "execution_count": null,
   "id": "38cdf221",
   "metadata": {},
   "outputs": [],
   "source": [
    "# modify year column to be integers\n",
    "state_gdp_melt[\"Year\"] = state_gdp_melt[\"Year\"].astype(int)"
   ]
  },
  {
   "cell_type": "markdown",
   "id": "00ac1dc5",
   "metadata": {},
   "source": [
    "### Perform Cleanup on Suicide Rate DataFrame"
   ]
  },
  {
   "cell_type": "code",
   "execution_count": null,
   "id": "c8b1cfb5",
   "metadata": {},
   "outputs": [],
   "source": [
    "# drop unnecessary columns\n",
    "sui_df = sui_df.drop(columns = {\"Unnamed: 0\"})"
   ]
  },
  {
   "cell_type": "code",
   "execution_count": null,
   "id": "194f8218",
   "metadata": {},
   "outputs": [],
   "source": [
    "sui_df = sui_df.rename(columns = {\"Crude Rate\": \"Suicide Rate\"})\n",
    "sui_df.head()"
   ]
  },
  {
   "cell_type": "markdown",
   "id": "efdd018b",
   "metadata": {},
   "source": [
    "### Merge DataFrames"
   ]
  },
  {
   "cell_type": "code",
   "execution_count": null,
   "id": "a61252c9",
   "metadata": {},
   "outputs": [],
   "source": [
    "# merge suicide and gdp DFs on \n",
    "gdp_sui_state = pd.merge(state_gdp_melt, sui_df, on = [\"State\", \"Year\"], how = \"inner\")\n",
    "gdp_sui_state"
   ]
  },
  {
   "cell_type": "code",
   "execution_count": null,
   "id": "6c505f21",
   "metadata": {},
   "outputs": [],
   "source": [
    "# make GDP a float\n",
    "gdp_sui_state[\"GDP (in millions)\"] = gdp_sui_state[\"GDP (in millions)\"].astype(float)"
   ]
  },
  {
   "cell_type": "markdown",
   "id": "6b244f7b",
   "metadata": {},
   "source": [
    "### Add GDP Per Capita to DataFrame "
   ]
  },
  {
   "cell_type": "code",
   "execution_count": null,
   "id": "1b5e5e33",
   "metadata": {},
   "outputs": [],
   "source": [
    "# add GDP per Capita column\n",
    "gdp_sui_state[\"GDP Per Capita\"] = round(((gdp_sui_state[\"GDP (in millions)\"]*1000000)/gdp_sui_state[\"Population\"]), 2)\n",
    "gdp_sui_state"
   ]
  },
  {
   "cell_type": "markdown",
   "id": "b39e0ceb",
   "metadata": {},
   "source": [
    "## Merged DataFrame Analysis"
   ]
  },
  {
   "cell_type": "markdown",
   "id": "0875ef43",
   "metadata": {},
   "source": [
    "### Perform Multiple Scatter Plots in search of Observable Trends"
   ]
  },
  {
   "cell_type": "markdown",
   "id": "c58282b6",
   "metadata": {},
   "source": [
    "SCATTER PLOT of GDP vs SUICIDE RATE (years = 1999 - 2020)"
   ]
  },
  {
   "cell_type": "code",
   "execution_count": null,
   "id": "d654bb5a",
   "metadata": {},
   "outputs": [],
   "source": [
    "# scatter plot of all GDP and suicide rate (all years)\n",
    "plt.scatter(gdp_sui_state[\"GDP (in millions)\"], gdp_sui_state[\"Suicide Rate\"])\n",
    "plt.xlabel(\"GDP (in Millions)\")\n",
    "plt.ylabel(\"Suicide Rate (per 100,000)\")\n",
    "plt.title(\"Suicide Rate vs GDP\")\n",
    "plt.show()"
   ]
  },
  {
   "cell_type": "code",
   "execution_count": null,
   "id": "c73b36aa",
   "metadata": {},
   "outputs": [],
   "source": [
    "gdp_sui_state_lower = gdp_sui_state.loc[gdp_sui_state[\"GDP (in millions)\"] < 1000000, :]"
   ]
  },
  {
   "cell_type": "markdown",
   "id": "13509fa0",
   "metadata": {},
   "source": [
    "SCATTER PLOT of GDP vs SUICIDE RATE for States with less than $1 Trillion GDP (years = 1999 - 2020)"
   ]
  },
  {
   "cell_type": "code",
   "execution_count": null,
   "id": "dfb76d57",
   "metadata": {},
   "outputs": [],
   "source": [
    "# scatter plot of all GDP and suicide rate & GDP < $1 Trillion (all years)\n",
    "x_values = gdp_sui_state_lower[\"GDP (in millions)\"]\n",
    "y_values = gdp_sui_state_lower[\"Suicide Rate\"]\n",
    "\n",
    "# perform linear regression equations\n",
    "(slope, intercept, rvalue, pvalue, stderr) = st.linregress(x_values, y_values)\n",
    "regress_values = x_values * slope + intercept\n",
    "line_eq = \"y = \" + str(round(slope,5)) + \"x + \" + str(round(intercept,2))\n",
    "plt.scatter(x_values,y_values)\n",
    "plt.plot(x_values,regress_values,\"r-\")\n",
    "plt.annotate(line_eq,(50000,30),fontsize=15,color=\"red\")\n",
    "plt.xlabel('GDP (in millions)')\n",
    "plt.ylabel('Suicide Rate')\n",
    "plt.title(\"State Suicide vs GDP Per Capita\")\n",
    "plt.show()\n",
    "print(pvalue, rvalue)"
   ]
  },
  {
   "cell_type": "code",
   "execution_count": null,
   "id": "2c2f8fc4",
   "metadata": {},
   "outputs": [],
   "source": [
    "# make a DF for large GDP over 1 trillion\n",
    "big_gdp_sui_state = gdp_sui_state.loc[gdp_sui_state[\"GDP (in millions)\"] > 1000000, :]\n",
    "big_gdp_sui_state.head()"
   ]
  },
  {
   "cell_type": "markdown",
   "id": "afb92880",
   "metadata": {},
   "source": [
    "SCATTER PLOT of GDP vs SUICIDE RATE for States with less than $1 Trillion GDP (years = 1999 - 2020)"
   ]
  },
  {
   "cell_type": "code",
   "execution_count": null,
   "id": "39014e5e",
   "metadata": {},
   "outputs": [],
   "source": [
    "# scatter plot of only large GDP\n",
    "x_values = big_gdp_sui_state[\"GDP (in millions)\"]\n",
    "y_values = big_gdp_sui_state[\"Suicide Rate\"]\n",
    "\n",
    "# perform linear regression equations\n",
    "(slope, intercept, rvalue, pvalue, stderr) = st.linregress(x_values, y_values)\n",
    "regress_values = x_values * slope + intercept\n",
    "line_eq = \"y = \" + str(round(slope,5)) + \"x + \" + str(round(intercept,2))\n",
    "plt.scatter(x_values,y_values)\n",
    "plt.plot(x_values,regress_values,\"r-\")\n",
    "plt.annotate(line_eq,(50000,30),fontsize=15,color=\"red\")\n",
    "plt.xlabel('GDP (in millions)')\n",
    "plt.ylabel('Suicide Rate')\n",
    "plt.title(\"State Suicide vs GDP Per Capita\")\n",
    "plt.show()\n",
    "print(pvalue, rvalue)"
   ]
  },
  {
   "cell_type": "markdown",
   "id": "617feb81",
   "metadata": {},
   "source": [
    "NOTE: Plot just shows the results for New York, California, and Texas"
   ]
  },
  {
   "cell_type": "code",
   "execution_count": null,
   "id": "69127cba",
   "metadata": {},
   "outputs": [],
   "source": [
    "# try a DF just by year\n",
    "gdp_sui_state_year = gdp_sui_state.loc[gdp_sui_state[\"Year\"] == 2020]"
   ]
  },
  {
   "cell_type": "markdown",
   "id": "229b6fbd",
   "metadata": {},
   "source": [
    "SCATTER PLOT of GDP vs SUICIDE RATE (year = 2020)"
   ]
  },
  {
   "cell_type": "code",
   "execution_count": null,
   "id": "4b7d9b3e",
   "metadata": {},
   "outputs": [],
   "source": [
    "# scatter plot of only large GDP\n",
    "x_values = gdp_sui_state_year[\"GDP (in millions)\"]\n",
    "y_values = gdp_sui_state_year[\"Suicide Rate\"]\n",
    "\n",
    "# perform linear regression equations\n",
    "(slope, intercept, rvalue, pvalue, stderr) = st.linregress(x_values, y_values)\n",
    "regress_values = x_values * slope + intercept\n",
    "line_eq = \"y = \" + str(round(slope,5)) + \"x + \" + str(round(intercept,2))\n",
    "plt.scatter(x_values,y_values)\n",
    "plt.plot(x_values,regress_values,\"r-\")\n",
    "plt.annotate(line_eq,(50000,30),fontsize=15,color=\"red\")\n",
    "plt.xlabel('GDP (in millions)')\n",
    "plt.ylabel('Suicide Rate')\n",
    "plt.title(\"State Suicide vs GDP\")\n",
    "plt.show()\n",
    "print(pvalue, rvalue)"
   ]
  },
  {
   "cell_type": "markdown",
   "id": "c8bb84c6",
   "metadata": {},
   "source": [
    "SCATTER PLOT of GDP PER CAPITA vs SUICIDE RATE (year = 1999 - 2020)"
   ]
  },
  {
   "cell_type": "code",
   "execution_count": null,
   "id": "1acf8f1f",
   "metadata": {},
   "outputs": [],
   "source": [
    "# try some plots in GDP Per Capita instead of total GDP\n",
    "\n",
    "# scatter plot of all GDP per Capita and suicide rate (all years)\n",
    "plt.scatter(gdp_sui_state[\"GDP Per Capita\"], gdp_sui_state[\"Suicide Rate\"])\n",
    "plt.xlabel(\"GDP Per Capita\")\n",
    "plt.ylabel(\"Suicide Rate (per 100,000)\")\n",
    "plt.show()"
   ]
  },
  {
   "cell_type": "code",
   "execution_count": null,
   "id": "bd52c70a",
   "metadata": {},
   "outputs": [],
   "source": [
    "# set up the values of the plot to help determine linear regression equation\n",
    "gdp_sui_stat_DC = gdp_sui_state.loc[gdp_sui_state[\"State\"] != \"District of Columbia\"]\n",
    "gdp_sui_stat_DC.head()"
   ]
  },
  {
   "cell_type": "markdown",
   "id": "1d7781c2",
   "metadata": {},
   "source": [
    "SCATTER PLOT of GDP PER CAPITA vs SUICIDE RATE for GDP Per Capita < 100,000 (year = 1999 - 2020)"
   ]
  },
  {
   "cell_type": "code",
   "execution_count": null,
   "id": "e0a71df9",
   "metadata": {},
   "outputs": [],
   "source": [
    "x_values = gdp_sui_stat_DC[\"GDP Per Capita\"]\n",
    "y_values = gdp_sui_stat_DC[\"Suicide Rate\"]\n",
    "\n",
    "# perform linear regression equations\n",
    "(slope, intercept, rvalue, pvalue, stderr) = st.linregress(x_values, y_values)\n",
    "regress_values = x_values * slope + intercept\n",
    "line_eq = \"y = \" + str(round(slope,5)) + \"x + \" + str(round(intercept,2))\n",
    "plt.scatter(x_values,y_values)\n",
    "plt.plot(x_values,regress_values,\"r-\")\n",
    "plt.annotate(line_eq,(50000,30),fontsize=15,color=\"red\")\n",
    "plt.xlabel('GDP Per Capita')\n",
    "plt.ylabel('Suicide Rate')\n",
    "plt.title(\"State Suicide vs GDP Per Capita\")\n",
    "plt.show()\n",
    "print(pvalue, rvalue)"
   ]
  },
  {
   "cell_type": "code",
   "execution_count": null,
   "id": "ae3530e9",
   "metadata": {},
   "outputs": [],
   "source": [
    "# plot of 2020 GDP vs Suicide\n",
    "x_values = gdp_sui_state_year[\"GDP Per Capita\"]\n",
    "y_values = gdp_sui_state_year[\"Suicide Rate\"]\n",
    "\n",
    "# perform linear regression equations\n",
    "(slope, intercept, rvalue, pvalue, stderr) = st.linregress(x_values, y_values)\n",
    "regress_values = x_values * slope + intercept\n",
    "line_eq = \"y = \" + str(round(slope,5)) + \"x + \" + str(round(intercept,2))\n",
    "plt.scatter(x_values,y_values)\n",
    "plt.plot(x_values,regress_values,\"r-\")\n",
    "plt.annotate(line_eq,(50000,30),fontsize=15,color=\"red\")\n",
    "plt.xlabel('GDP Per Capita')\n",
    "plt.ylabel('Suicide Rate')\n",
    "plt.title(\"State Suicide vs GDP Per Capita\")\n",
    "plt.show()\n",
    "print(pvalue, rvalue)"
   ]
  },
  {
   "cell_type": "code",
   "execution_count": null,
   "id": "8cb28e68",
   "metadata": {},
   "outputs": [],
   "source": [
    "# try a DF just by State\n",
    "gdp_sui_state_ST = gdp_sui_state.loc[gdp_sui_state[\"State\"] == \"Minnesota\"]\n",
    "gdp_sui_state_ST"
   ]
  },
  {
   "cell_type": "code",
   "execution_count": null,
   "id": "ff360a5c",
   "metadata": {},
   "outputs": [],
   "source": [
    "plt.scatter(gdp_sui_state_ST[\"GDP Per Capita\"], gdp_sui_state_ST[\"Suicide Rate\"])\n",
    "plt.xlabel(\"GDP Per Capita\")\n",
    "plt.ylabel(\"Suicide Rate (per 100,000)\")\n",
    "plt.show()"
   ]
  },
  {
   "cell_type": "code",
   "execution_count": null,
   "id": "c02d162a",
   "metadata": {},
   "outputs": [],
   "source": []
  }
 ],
 "metadata": {
  "kernelspec": {
   "display_name": "Python 3 (ipykernel)",
   "language": "python",
   "name": "python3"
  },
  "language_info": {
   "codemirror_mode": {
    "name": "ipython",
    "version": 3
   },
   "file_extension": ".py",
   "mimetype": "text/x-python",
   "name": "python",
   "nbconvert_exporter": "python",
   "pygments_lexer": "ipython3",
   "version": "3.8.13"
  }
 },
 "nbformat": 4,
 "nbformat_minor": 5
}
