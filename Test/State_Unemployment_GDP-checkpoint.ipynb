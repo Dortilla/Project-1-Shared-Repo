{
 "cells": [
  {
   "cell_type": "markdown",
   "id": "3ce302e4",
   "metadata": {},
   "source": [
    "# Depencencies"
   ]
  },
  {
   "cell_type": "code",
   "execution_count": 1,
   "id": "5e7d06fa",
   "metadata": {},
   "outputs": [],
   "source": [
    "import pandas as pd\n",
    "import scipy.stats as st\n",
    "import matplotlib.pyplot as plt\n",
    "from scipy.stats import linregress\n",
    "import numpy as np"
   ]
  },
  {
   "cell_type": "markdown",
   "id": "9f663ad9",
   "metadata": {},
   "source": [
    "# Import files"
   ]
  },
  {
   "cell_type": "code",
   "execution_count": 2,
   "id": "1459423b",
   "metadata": {},
   "outputs": [],
   "source": [
    "sui_state = \"suicide_rate_state.csv\"\n",
    "sui_state_df = pd.read_csv(sui_state)"
   ]
  },
  {
   "cell_type": "code",
   "execution_count": 3,
   "id": "269bd469",
   "metadata": {},
   "outputs": [
    {
     "data": {
      "text/html": [
       "<div>\n",
       "<style scoped>\n",
       "    .dataframe tbody tr th:only-of-type {\n",
       "        vertical-align: middle;\n",
       "    }\n",
       "\n",
       "    .dataframe tbody tr th {\n",
       "        vertical-align: top;\n",
       "    }\n",
       "\n",
       "    .dataframe thead th {\n",
       "        text-align: right;\n",
       "    }\n",
       "</style>\n",
       "<table border=\"1\" class=\"dataframe\">\n",
       "  <thead>\n",
       "    <tr style=\"text-align: right;\">\n",
       "      <th></th>\n",
       "      <th>Unnamed: 0</th>\n",
       "      <th>State</th>\n",
       "      <th>Year</th>\n",
       "      <th>Deaths</th>\n",
       "      <th>Population</th>\n",
       "      <th>Crude Rate</th>\n",
       "    </tr>\n",
       "  </thead>\n",
       "  <tbody>\n",
       "    <tr>\n",
       "      <th>0</th>\n",
       "      <td>NaN</td>\n",
       "      <td>Alabama</td>\n",
       "      <td>1999</td>\n",
       "      <td>554</td>\n",
       "      <td>4430141</td>\n",
       "      <td>12.5</td>\n",
       "    </tr>\n",
       "    <tr>\n",
       "      <th>1</th>\n",
       "      <td>NaN</td>\n",
       "      <td>Alabama</td>\n",
       "      <td>2000</td>\n",
       "      <td>582</td>\n",
       "      <td>4447100</td>\n",
       "      <td>13.1</td>\n",
       "    </tr>\n",
       "    <tr>\n",
       "      <th>2</th>\n",
       "      <td>NaN</td>\n",
       "      <td>Alabama</td>\n",
       "      <td>2001</td>\n",
       "      <td>512</td>\n",
       "      <td>4467634</td>\n",
       "      <td>11.5</td>\n",
       "    </tr>\n",
       "    <tr>\n",
       "      <th>3</th>\n",
       "      <td>NaN</td>\n",
       "      <td>Alabama</td>\n",
       "      <td>2002</td>\n",
       "      <td>513</td>\n",
       "      <td>4480089</td>\n",
       "      <td>11.5</td>\n",
       "    </tr>\n",
       "    <tr>\n",
       "      <th>4</th>\n",
       "      <td>NaN</td>\n",
       "      <td>Alabama</td>\n",
       "      <td>2003</td>\n",
       "      <td>520</td>\n",
       "      <td>4503491</td>\n",
       "      <td>11.5</td>\n",
       "    </tr>\n",
       "  </tbody>\n",
       "</table>\n",
       "</div>"
      ],
      "text/plain": [
       "  Unnamed: 0    State  Year  Deaths  Population  Crude Rate\n",
       "0        NaN  Alabama  1999     554     4430141        12.5\n",
       "1        NaN  Alabama  2000     582     4447100        13.1\n",
       "2        NaN  Alabama  2001     512     4467634        11.5\n",
       "3        NaN  Alabama  2002     513     4480089        11.5\n",
       "4        NaN  Alabama  2003     520     4503491        11.5"
      ]
     },
     "execution_count": 3,
     "metadata": {},
     "output_type": "execute_result"
    }
   ],
   "source": [
    "sui_state_df.head()"
   ]
  },
  {
   "cell_type": "code",
   "execution_count": 4,
   "id": "355fdd3d",
   "metadata": {},
   "outputs": [],
   "source": [
    "gdp_state = \"states_2018_gdp.csv\"\n",
    "gdp_state_df = pd.read_csv(gdp_state)"
   ]
  },
  {
   "cell_type": "code",
   "execution_count": 5,
   "id": "adc670cb",
   "metadata": {},
   "outputs": [
    {
     "data": {
      "text/html": [
       "<div>\n",
       "<style scoped>\n",
       "    .dataframe tbody tr th:only-of-type {\n",
       "        vertical-align: middle;\n",
       "    }\n",
       "\n",
       "    .dataframe tbody tr th {\n",
       "        vertical-align: top;\n",
       "    }\n",
       "\n",
       "    .dataframe thead th {\n",
       "        text-align: right;\n",
       "    }\n",
       "</style>\n",
       "<table border=\"1\" class=\"dataframe\">\n",
       "  <thead>\n",
       "    <tr style=\"text-align: right;\">\n",
       "      <th></th>\n",
       "      <th>State</th>\n",
       "      <th>Gross Domestic Product ($ Millions)</th>\n",
       "      <th>Gross Domestic Product per Capita ($ Dollars)</th>\n",
       "    </tr>\n",
       "  </thead>\n",
       "  <tbody>\n",
       "    <tr>\n",
       "      <th>0</th>\n",
       "      <td>Alabama</td>\n",
       "      <td>221736</td>\n",
       "      <td>40598</td>\n",
       "    </tr>\n",
       "    <tr>\n",
       "      <th>1</th>\n",
       "      <td>Alaska</td>\n",
       "      <td>54734</td>\n",
       "      <td>71996</td>\n",
       "    </tr>\n",
       "    <tr>\n",
       "      <th>2</th>\n",
       "      <td>Arizona</td>\n",
       "      <td>348297</td>\n",
       "      <td>43464</td>\n",
       "    </tr>\n",
       "    <tr>\n",
       "      <th>3</th>\n",
       "      <td>Arkansas</td>\n",
       "      <td>128419</td>\n",
       "      <td>38919</td>\n",
       "    </tr>\n",
       "    <tr>\n",
       "      <th>4</th>\n",
       "      <td>California</td>\n",
       "      <td>2997733</td>\n",
       "      <td>68803</td>\n",
       "    </tr>\n",
       "  </tbody>\n",
       "</table>\n",
       "</div>"
      ],
      "text/plain": [
       "        State Gross Domestic Product ($ Millions)  \\\n",
       "0     Alabama                              221736   \n",
       "1      Alaska                               54734   \n",
       "2     Arizona                              348297   \n",
       "3    Arkansas                              128419   \n",
       "4  California                             2997733   \n",
       "\n",
       "  Gross Domestic Product per Capita ($ Dollars)  \n",
       "0                                         40598  \n",
       "1                                         71996  \n",
       "2                                         43464  \n",
       "3                                         38919  \n",
       "4                                         68803  "
      ]
     },
     "execution_count": 5,
     "metadata": {},
     "output_type": "execute_result"
    }
   ],
   "source": [
    "gdp_state_df.head()"
   ]
  },
  {
   "cell_type": "code",
   "execution_count": 6,
   "id": "d84bdb71",
   "metadata": {},
   "outputs": [],
   "source": [
    "gdp_state1 = \"bea-gdp-by-state.csv\"\n",
    "gdp_state1_df = pd.read_csv(gdp_state1)"
   ]
  },
  {
   "cell_type": "code",
   "execution_count": 7,
   "id": "00dd0217",
   "metadata": {},
   "outputs": [
    {
     "data": {
      "text/html": [
       "<div>\n",
       "<style scoped>\n",
       "    .dataframe tbody tr th:only-of-type {\n",
       "        vertical-align: middle;\n",
       "    }\n",
       "\n",
       "    .dataframe tbody tr th {\n",
       "        vertical-align: top;\n",
       "    }\n",
       "\n",
       "    .dataframe thead th {\n",
       "        text-align: right;\n",
       "    }\n",
       "</style>\n",
       "<table border=\"1\" class=\"dataframe\">\n",
       "  <thead>\n",
       "    <tr style=\"text-align: right;\">\n",
       "      <th></th>\n",
       "      <th>Fips</th>\n",
       "      <th>Area</th>\n",
       "      <th>2013</th>\n",
       "      <th>2014</th>\n",
       "      <th>2015</th>\n",
       "      <th>2016</th>\n",
       "      <th>2017</th>\n",
       "    </tr>\n",
       "  </thead>\n",
       "  <tbody>\n",
       "    <tr>\n",
       "      <th>0</th>\n",
       "      <td>0</td>\n",
       "      <td>United States</td>\n",
       "      <td>48534</td>\n",
       "      <td>49329</td>\n",
       "      <td>50301</td>\n",
       "      <td>50660</td>\n",
       "      <td>51337</td>\n",
       "    </tr>\n",
       "    <tr>\n",
       "      <th>1</th>\n",
       "      <td>1000</td>\n",
       "      <td>Alabama</td>\n",
       "      <td>36674</td>\n",
       "      <td>36473</td>\n",
       "      <td>36818</td>\n",
       "      <td>37158</td>\n",
       "      <td>37508</td>\n",
       "    </tr>\n",
       "    <tr>\n",
       "      <th>2</th>\n",
       "      <td>2000</td>\n",
       "      <td>Alaska</td>\n",
       "      <td>69711</td>\n",
       "      <td>67179</td>\n",
       "      <td>65971</td>\n",
       "      <td>63304</td>\n",
       "      <td>63610</td>\n",
       "    </tr>\n",
       "    <tr>\n",
       "      <th>3</th>\n",
       "      <td>4000</td>\n",
       "      <td>Arizona</td>\n",
       "      <td>38352</td>\n",
       "      <td>38534</td>\n",
       "      <td>38787</td>\n",
       "      <td>38940</td>\n",
       "      <td>39583</td>\n",
       "    </tr>\n",
       "    <tr>\n",
       "      <th>4</th>\n",
       "      <td>5000</td>\n",
       "      <td>Arkansas</td>\n",
       "      <td>35888</td>\n",
       "      <td>36265</td>\n",
       "      <td>36295</td>\n",
       "      <td>36502</td>\n",
       "      <td>36714</td>\n",
       "    </tr>\n",
       "  </tbody>\n",
       "</table>\n",
       "</div>"
      ],
      "text/plain": [
       "   Fips           Area   2013   2014   2015   2016   2017\n",
       "0     0  United States  48534  49329  50301  50660  51337\n",
       "1  1000        Alabama  36674  36473  36818  37158  37508\n",
       "2  2000         Alaska  69711  67179  65971  63304  63610\n",
       "3  4000        Arizona  38352  38534  38787  38940  39583\n",
       "4  5000       Arkansas  35888  36265  36295  36502  36714"
      ]
     },
     "execution_count": 7,
     "metadata": {},
     "output_type": "execute_result"
    }
   ],
   "source": [
    "gdp_state1_df.head()"
   ]
  },
  {
   "cell_type": "markdown",
   "id": "16befd53",
   "metadata": {},
   "source": [
    "# Clean Files"
   ]
  },
  {
   "cell_type": "code",
   "execution_count": 8,
   "id": "f805e807",
   "metadata": {},
   "outputs": [
    {
     "data": {
      "text/html": [
       "<div>\n",
       "<style scoped>\n",
       "    .dataframe tbody tr th:only-of-type {\n",
       "        vertical-align: middle;\n",
       "    }\n",
       "\n",
       "    .dataframe tbody tr th {\n",
       "        vertical-align: top;\n",
       "    }\n",
       "\n",
       "    .dataframe thead th {\n",
       "        text-align: right;\n",
       "    }\n",
       "</style>\n",
       "<table border=\"1\" class=\"dataframe\">\n",
       "  <thead>\n",
       "    <tr style=\"text-align: right;\">\n",
       "      <th></th>\n",
       "      <th>State</th>\n",
       "      <th>Year</th>\n",
       "      <th>Deaths</th>\n",
       "      <th>Population</th>\n",
       "      <th>Crude Rate</th>\n",
       "    </tr>\n",
       "  </thead>\n",
       "  <tbody>\n",
       "    <tr>\n",
       "      <th>0</th>\n",
       "      <td>Alabama</td>\n",
       "      <td>1999</td>\n",
       "      <td>554</td>\n",
       "      <td>4430141</td>\n",
       "      <td>12.5</td>\n",
       "    </tr>\n",
       "    <tr>\n",
       "      <th>1</th>\n",
       "      <td>Alabama</td>\n",
       "      <td>2000</td>\n",
       "      <td>582</td>\n",
       "      <td>4447100</td>\n",
       "      <td>13.1</td>\n",
       "    </tr>\n",
       "    <tr>\n",
       "      <th>2</th>\n",
       "      <td>Alabama</td>\n",
       "      <td>2001</td>\n",
       "      <td>512</td>\n",
       "      <td>4467634</td>\n",
       "      <td>11.5</td>\n",
       "    </tr>\n",
       "    <tr>\n",
       "      <th>3</th>\n",
       "      <td>Alabama</td>\n",
       "      <td>2002</td>\n",
       "      <td>513</td>\n",
       "      <td>4480089</td>\n",
       "      <td>11.5</td>\n",
       "    </tr>\n",
       "    <tr>\n",
       "      <th>4</th>\n",
       "      <td>Alabama</td>\n",
       "      <td>2003</td>\n",
       "      <td>520</td>\n",
       "      <td>4503491</td>\n",
       "      <td>11.5</td>\n",
       "    </tr>\n",
       "    <tr>\n",
       "      <th>...</th>\n",
       "      <td>...</td>\n",
       "      <td>...</td>\n",
       "      <td>...</td>\n",
       "      <td>...</td>\n",
       "      <td>...</td>\n",
       "    </tr>\n",
       "    <tr>\n",
       "      <th>1117</th>\n",
       "      <td>Wyoming</td>\n",
       "      <td>2016</td>\n",
       "      <td>144</td>\n",
       "      <td>585501</td>\n",
       "      <td>24.6</td>\n",
       "    </tr>\n",
       "    <tr>\n",
       "      <th>1118</th>\n",
       "      <td>Wyoming</td>\n",
       "      <td>2017</td>\n",
       "      <td>157</td>\n",
       "      <td>579315</td>\n",
       "      <td>27.1</td>\n",
       "    </tr>\n",
       "    <tr>\n",
       "      <th>1119</th>\n",
       "      <td>Wyoming</td>\n",
       "      <td>2018</td>\n",
       "      <td>147</td>\n",
       "      <td>577737</td>\n",
       "      <td>25.4</td>\n",
       "    </tr>\n",
       "    <tr>\n",
       "      <th>1120</th>\n",
       "      <td>Wyoming</td>\n",
       "      <td>2019</td>\n",
       "      <td>170</td>\n",
       "      <td>578759</td>\n",
       "      <td>29.4</td>\n",
       "    </tr>\n",
       "    <tr>\n",
       "      <th>1121</th>\n",
       "      <td>Wyoming</td>\n",
       "      <td>2020</td>\n",
       "      <td>182</td>\n",
       "      <td>582328</td>\n",
       "      <td>31.3</td>\n",
       "    </tr>\n",
       "  </tbody>\n",
       "</table>\n",
       "<p>1122 rows × 5 columns</p>\n",
       "</div>"
      ],
      "text/plain": [
       "        State  Year  Deaths  Population  Crude Rate\n",
       "0     Alabama  1999     554     4430141        12.5\n",
       "1     Alabama  2000     582     4447100        13.1\n",
       "2     Alabama  2001     512     4467634        11.5\n",
       "3     Alabama  2002     513     4480089        11.5\n",
       "4     Alabama  2003     520     4503491        11.5\n",
       "...       ...   ...     ...         ...         ...\n",
       "1117  Wyoming  2016     144      585501        24.6\n",
       "1118  Wyoming  2017     157      579315        27.1\n",
       "1119  Wyoming  2018     147      577737        25.4\n",
       "1120  Wyoming  2019     170      578759        29.4\n",
       "1121  Wyoming  2020     182      582328        31.3\n",
       "\n",
       "[1122 rows x 5 columns]"
      ]
     },
     "execution_count": 8,
     "metadata": {},
     "output_type": "execute_result"
    }
   ],
   "source": [
    "sui_state_df = sui_state_df.drop(columns = \"Unnamed: 0\")\n",
    "sui_state_df"
   ]
  },
  {
   "cell_type": "code",
   "execution_count": 9,
   "id": "424bb0ba",
   "metadata": {},
   "outputs": [],
   "source": [
    "gdp_state1_df = gdp_state1_df.drop(columns = \"Fips\")\n",
    "# gdp_state1_df.head()"
   ]
  },
  {
   "cell_type": "code",
   "execution_count": 10,
   "id": "c087f6f4",
   "metadata": {},
   "outputs": [],
   "source": [
    "gdp_state1_df = gdp_state1_df.rename(columns = {\"Area\": \"State\"})\n",
    "# gdp_state1_df.head()"
   ]
  },
  {
   "cell_type": "code",
   "execution_count": 11,
   "id": "fb953ffa",
   "metadata": {},
   "outputs": [
    {
     "data": {
      "text/html": [
       "<div>\n",
       "<style scoped>\n",
       "    .dataframe tbody tr th:only-of-type {\n",
       "        vertical-align: middle;\n",
       "    }\n",
       "\n",
       "    .dataframe tbody tr th {\n",
       "        vertical-align: top;\n",
       "    }\n",
       "\n",
       "    .dataframe thead th {\n",
       "        text-align: right;\n",
       "    }\n",
       "</style>\n",
       "<table border=\"1\" class=\"dataframe\">\n",
       "  <thead>\n",
       "    <tr style=\"text-align: right;\">\n",
       "      <th></th>\n",
       "      <th>State</th>\n",
       "      <th>2013</th>\n",
       "      <th>2014</th>\n",
       "      <th>2015</th>\n",
       "      <th>2016</th>\n",
       "      <th>2017</th>\n",
       "    </tr>\n",
       "  </thead>\n",
       "  <tbody>\n",
       "    <tr>\n",
       "      <th>1</th>\n",
       "      <td>Alabama</td>\n",
       "      <td>36674</td>\n",
       "      <td>36473</td>\n",
       "      <td>36818</td>\n",
       "      <td>37158</td>\n",
       "      <td>37508</td>\n",
       "    </tr>\n",
       "    <tr>\n",
       "      <th>2</th>\n",
       "      <td>Alaska</td>\n",
       "      <td>69711</td>\n",
       "      <td>67179</td>\n",
       "      <td>65971</td>\n",
       "      <td>63304</td>\n",
       "      <td>63610</td>\n",
       "    </tr>\n",
       "    <tr>\n",
       "      <th>3</th>\n",
       "      <td>Arizona</td>\n",
       "      <td>38352</td>\n",
       "      <td>38534</td>\n",
       "      <td>38787</td>\n",
       "      <td>38940</td>\n",
       "      <td>39583</td>\n",
       "    </tr>\n",
       "    <tr>\n",
       "      <th>4</th>\n",
       "      <td>Arkansas</td>\n",
       "      <td>35888</td>\n",
       "      <td>36265</td>\n",
       "      <td>36295</td>\n",
       "      <td>36502</td>\n",
       "      <td>36714</td>\n",
       "    </tr>\n",
       "    <tr>\n",
       "      <th>5</th>\n",
       "      <td>California</td>\n",
       "      <td>53838</td>\n",
       "      <td>55571</td>\n",
       "      <td>57637</td>\n",
       "      <td>58974</td>\n",
       "      <td>60359</td>\n",
       "    </tr>\n",
       "  </tbody>\n",
       "</table>\n",
       "</div>"
      ],
      "text/plain": [
       "        State   2013   2014   2015   2016   2017\n",
       "1     Alabama  36674  36473  36818  37158  37508\n",
       "2      Alaska  69711  67179  65971  63304  63610\n",
       "3     Arizona  38352  38534  38787  38940  39583\n",
       "4    Arkansas  35888  36265  36295  36502  36714\n",
       "5  California  53838  55571  57637  58974  60359"
      ]
     },
     "execution_count": 11,
     "metadata": {},
     "output_type": "execute_result"
    }
   ],
   "source": [
    "gdp_state1_df = gdp_state1_df.drop([0])\n",
    "gdp_state1_df.head()"
   ]
  },
  {
   "cell_type": "code",
   "execution_count": null,
   "id": "d7d86004",
   "metadata": {},
   "outputs": [],
   "source": [
    "gdp_merge = gdp_merge.drop(columns = \"Gross Domestic Product ($ Millions)\")\n",
    "gdp_merge.head()"
   ]
  },
  {
   "cell_type": "code",
   "execution_count": null,
   "id": "18346c31",
   "metadata": {},
   "outputs": [],
   "source": [
    "gdp_merge = gdp_merge[['State', '2013', '2014', '2015', '2016', '2017', \"Gross Domestic Product per Capita ($ Dollars)\"]]\n",
    "gdp_merge"
   ]
  },
  {
   "cell_type": "code",
   "execution_count": null,
   "id": "d60928f9",
   "metadata": {},
   "outputs": [],
   "source": [
    "gdp_merge = gdp_merge.rename(columns = {\"Gross Domestic Product per Capita ($ Dollars)\": \"2018 GDP\"})\n",
    "gdp_merge = gdp_merge.rename(columns = {'2013': \"2013 GDP\",\n",
    "                                        '2014': \"2014 GDP\",\n",
    "                                        '2015': \"2015 GDP\",\n",
    "                                        '2016': \"2016 GDP\",\n",
    "                                        '2017': \"2017 GDP\",\n",
    "                                        })\n",
    "gdp_merge.head()"
   ]
  },
  {
   "cell_type": "code",
   "execution_count": null,
   "id": "40b344b6",
   "metadata": {},
   "outputs": [],
   "source": [
    "gdp_merge_df = gdp_merge\n",
    "gdp_merge_df.head()"
   ]
  },
  {
   "cell_type": "code",
   "execution_count": null,
   "id": "1dfb6152",
   "metadata": {},
   "outputs": [],
   "source": [
    "gdp_merge = pd.merge(gdp_state_df, gdp_state1_df, on = [\"State\"])\n",
    "gdp_merge.head()"
   ]
  },
  {
   "cell_type": "code",
   "execution_count": null,
   "id": "c5a0a1bf",
   "metadata": {},
   "outputs": [],
   "source": [
    "# sui_df = pd.merge(sui_state_df, gdp_merge_df, on = [\"State\"])\n",
    "\n",
    "# merge_sui_gdp_df = merge_sui_gdp_df.sort_values([\"State\", \"Year\"], ascending = True)\n",
    "# merge_sui_gdp_df.head(50)"
   ]
  },
  {
   "cell_type": "code",
   "execution_count": null,
   "id": "508dcb01",
   "metadata": {},
   "outputs": [],
   "source": [
    "# merge_sui_gdp_df['Year'] = merge_sui_gdp_df['Year'].astype(int)\n",
    "\n",
    "# merge_sui_gdp_df.info()"
   ]
  },
  {
   "cell_type": "code",
   "execution_count": null,
   "id": "cf69de43",
   "metadata": {},
   "outputs": [],
   "source": [
    "# scatter = merge_sui_gdp_df.loc[merge_sui_gdp_df[\"Year\"]]\n",
    "# scatter"
   ]
  },
  {
   "cell_type": "code",
   "execution_count": null,
   "id": "a0c0d5a5",
   "metadata": {},
   "outputs": [],
   "source": []
  },
  {
   "cell_type": "markdown",
   "id": "185876fd",
   "metadata": {},
   "source": [
    "## Graphing"
   ]
  },
  {
   "cell_type": "code",
   "execution_count": null,
   "id": "d3053312",
   "metadata": {},
   "outputs": [],
   "source": [
    "x_values = merge_sui_gdp_df['Year']\n",
    "y_values = merge_sui_gdp_df['Crude Rate']"
   ]
  },
  {
   "cell_type": "code",
   "execution_count": null,
   "id": "48d8c695",
   "metadata": {},
   "outputs": [],
   "source": [
    "(slope, intercept, rvalue, pvalue, stderr) = linregress(x_values, y_values)"
   ]
  },
  {
   "cell_type": "code",
   "execution_count": null,
   "id": "6ba60cd7",
   "metadata": {},
   "outputs": [],
   "source": [
    "regress_values = x_values * slope + intercept\n",
    "line_eq = \"y = \" + str(round(slope,2)) + \"x + \" + str(round(intercept,2))"
   ]
  },
  {
   "cell_type": "code",
   "execution_count": null,
   "id": "c84d4c9c",
   "metadata": {},
   "outputs": [],
   "source": [
    "plt.scatter(x_values, y_values)\n",
    "plt.annotate(line_eq, (35000, 10.0), fontsize = 15, color = 'Red')\n",
    "plt.plot(x_values, regress_values, \"r-\")\n",
    "plt.xlabel(\"Year\")\n",
    "plt.ylabel(\"Crude Suicide Rate\")\n",
    "plt.title(\"GDP vs Suicide Rate for US States per year\")\n",
    "plt.show"
   ]
  },
  {
   "cell_type": "code",
   "execution_count": null,
   "id": "fb43b393",
   "metadata": {},
   "outputs": [],
   "source": [
    "correlation = st.pearsonr(x_values, y_values)\n",
    "print(correlation)\n",
    "\n",
    "# print(f\"The correlation between GDP per Capita and Crude suicide rate for US states in 2018 is {(correlation)}\")"
   ]
  },
  {
   "cell_type": "code",
   "execution_count": null,
   "id": "4e771b0d",
   "metadata": {},
   "outputs": [],
   "source": []
  }
 ],
 "metadata": {
  "kernelspec": {
   "display_name": "Python 3 (ipykernel)",
   "language": "python",
   "name": "python3"
  },
  "language_info": {
   "codemirror_mode": {
    "name": "ipython",
    "version": 3
   },
   "file_extension": ".py",
   "mimetype": "text/x-python",
   "name": "python",
   "nbconvert_exporter": "python",
   "pygments_lexer": "ipython3",
   "version": "3.8.13"
  }
 },
 "nbformat": 4,
 "nbformat_minor": 5
}
