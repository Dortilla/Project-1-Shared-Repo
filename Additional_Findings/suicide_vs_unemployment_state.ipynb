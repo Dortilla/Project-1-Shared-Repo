{
 "cells": [
  {
   "cell_type": "code",
   "execution_count": null,
   "id": "5e7d06fa",
   "metadata": {},
   "outputs": [],
   "source": [
    "import pandas as pd\n",
    "import scipy.stats as st\n",
    "import matplotlib.pyplot as plt\n",
    "from scipy.stats import linregress\n",
    "import numpy as np"
   ]
  },
  {
   "cell_type": "markdown",
   "id": "7f3862b5",
   "metadata": {},
   "source": [
    "# Suicide data import and cleanup"
   ]
  },
  {
   "cell_type": "code",
   "execution_count": null,
   "id": "1459423b",
   "metadata": {},
   "outputs": [],
   "source": [
    "#Import, read, and output the suicide rate by state csv\n",
    "sui_state = \"Resources/state_suicide_CDC.csv\"\n",
    "sui_state_df = pd.read_csv(sui_state)\n",
    "sui_state_df"
   ]
  },
  {
   "cell_type": "code",
   "execution_count": null,
   "id": "5504c6db",
   "metadata": {},
   "outputs": [],
   "source": [
    "#Rename columns\n",
    "sui_state_df = sui_state_df.rename(columns = {\"Crude Rate\": 'Suicide Rate'})\n",
    "sui_state_df"
   ]
  },
  {
   "cell_type": "code",
   "execution_count": null,
   "id": "384ed96a",
   "metadata": {},
   "outputs": [],
   "source": [
    "#Drop NA column\n",
    "clean_sui_state_df = sui_state_df.drop(columns = [\"Unnamed: 0\"], axis = 1)\n",
    "clean_sui_state_df"
   ]
  },
  {
   "cell_type": "code",
   "execution_count": null,
   "id": "f3691bc1",
   "metadata": {},
   "outputs": [],
   "source": [
    "clean_sui_state_df.dtypes"
   ]
  },
  {
   "cell_type": "markdown",
   "id": "cb4e3b08",
   "metadata": {},
   "source": [
    "# Unemployment data import and cleanup"
   ]
  },
  {
   "cell_type": "code",
   "execution_count": null,
   "id": "00dd0217",
   "metadata": {},
   "outputs": [],
   "source": [
    "#Import, read, and output the unemployment CSV file \n",
    "unemployed = \"Resources/state_unemployment_USBLS.csv\"\n",
    "unemployed_df = pd.read_csv(unemployed)\n",
    "unemployed_df"
   ]
  },
  {
   "cell_type": "code",
   "execution_count": null,
   "id": "31dd7693",
   "metadata": {},
   "outputs": [],
   "source": [
    "#Drop NA column\n",
    "clean_unemploy_df = unemployed_df.dropna()\n",
    "clean_unemploy_df"
   ]
  },
  {
   "cell_type": "code",
   "execution_count": null,
   "id": "c4d80aa5",
   "metadata": {},
   "outputs": [],
   "source": [
    "#Rename columns as needed\n",
    "clean_unemploy_df = clean_unemploy_df.rename(columns = {\"Area\": \"State\"})\n",
    "clean_unemploy_df.head()"
   ]
  },
  {
   "cell_type": "code",
   "execution_count": null,
   "id": "fb953ffa",
   "metadata": {},
   "outputs": [],
   "source": [
    "#Drop unneccesary columns and remove \"United States\" and \"District of Columbia\" rows, as they are not states\n",
    "clean_unemploy_df = clean_unemploy_df.drop(columns = {\"Fips\"}, axis = 1)\n",
    "clean_unemploy_df = clean_unemploy_df.drop([0,9])\n",
    "clean_unemploy_df"
   ]
  },
  {
   "cell_type": "code",
   "execution_count": null,
   "id": "a7f78e3c",
   "metadata": {},
   "outputs": [],
   "source": [
    "#Melt the data so that years are in the dataframe and unemployment rate percent is in one column\n",
    "clean_unemploy_melt_df = clean_unemploy_df.melt(id_vars=['State'], \n",
    "              value_vars=['1980', '1981', '1982', '1983', '1984', '1985', '1986', '1987', '1988', '1989', '1990', '1991', '1992', '1993', '1994', '1995', '1996',\n",
    "                          '1997','1998', '1999', '2000', '2001', '2002', '2003', '2004', '2005', '2006',\n",
    "       '2007', '2008', '2009', '2010', '2011', '2012', '2013', '2014', '2015',\n",
    "       '2016', '2017', '2018'],\n",
    "              var_name='Year', value_name='Unemployment Rate (%)')\n",
    "clean_unemploy_melt_df"
   ]
  },
  {
   "cell_type": "code",
   "execution_count": null,
   "id": "d7d86004",
   "metadata": {},
   "outputs": [],
   "source": [
    "#Remove rows with years that do not match the suicide CSV\n",
    "clean_unemploy_melt_df = clean_unemploy_melt_df.loc[(clean_unemploy_melt_df[\"Year\"] > \"1998\")]\n",
    "\n",
    "clean_unemploy_melt_df"
   ]
  },
  {
   "cell_type": "code",
   "execution_count": null,
   "id": "cb3c2876",
   "metadata": {},
   "outputs": [],
   "source": [
    "clean_unemploy_melt_df.dtypes"
   ]
  },
  {
   "cell_type": "code",
   "execution_count": null,
   "id": "04f63bd7",
   "metadata": {},
   "outputs": [],
   "source": [
    "#Change the \"Year\" from an object to an integer\n",
    "clean_unemploy_melt_df[\"Year\"] = clean_unemploy_melt_df[\"Year\"].astype(int)"
   ]
  },
  {
   "cell_type": "markdown",
   "id": "913a955b",
   "metadata": {},
   "source": [
    "# Merged"
   ]
  },
  {
   "cell_type": "code",
   "execution_count": null,
   "id": "d60928f9",
   "metadata": {},
   "outputs": [],
   "source": [
    "#Merge the two dataframes to prepare for graphing\n",
    "Merge_Unemp_Sui_df = pd.merge(clean_sui_state_df, clean_unemploy_melt_df, on = [\"State\", \"Year\"], how = 'inner')\n",
    "Merge_Unemp_Sui_df"
   ]
  },
  {
   "cell_type": "code",
   "execution_count": null,
   "id": "40b344b6",
   "metadata": {},
   "outputs": [],
   "source": [
    "#Check dataframe types\n",
    "Merge_Unemp_Sui_df.dtypes"
   ]
  },
  {
   "cell_type": "markdown",
   "id": "185876fd",
   "metadata": {},
   "source": [
    "# Graphing"
   ]
  },
  {
   "cell_type": "markdown",
   "id": "6e4a06b7",
   "metadata": {},
   "source": [
    "### Graph Unenployment Rate vs Suicide Rate for all years"
   ]
  },
  {
   "cell_type": "code",
   "execution_count": null,
   "id": "48d8c695",
   "metadata": {},
   "outputs": [],
   "source": [
    "#Create a scatter plot of unemployment rate and suicide rates\n",
    "plt.scatter(Merge_Unemp_Sui_df[\"Unemployment Rate (%)\"], Merge_Unemp_Sui_df[\"Suicide Rate\"])\n",
    "plt.xlabel(\"Unemployment Rate (%)\")\n",
    "plt.ylabel(\"Suicide Rate\")\n",
    "plt.title(\"State Unemployment Rate vs Suicide Rate 1999-2018\")\n",
    "plt.show()"
   ]
  },
  {
   "cell_type": "code",
   "execution_count": null,
   "id": "6ba60cd7",
   "metadata": {},
   "outputs": [],
   "source": [
    "#Perform a linear regression\n",
    "x_values = Merge_Unemp_Sui_df[\"Unemployment Rate (%)\"]\n",
    "y_values = Merge_Unemp_Sui_df[\"Suicide Rate\"]\n",
    "\n",
    "(slope, intercept, rvalue, pvalue, stderr) = linregress(x_values, y_values)\n",
    "regress_values = x_values * slope + intercept\n",
    "line_eq = \"y =\" + str(round(slope,2)) + \"x +\" + str(round(intercept, 2))\n",
    "plt.annotate(line_eq, (8, 25), fontsize = 15, color = \"red\")\n",
    "\n",
    "plt.scatter(x_values, y_values)\n",
    "plt.plot(x_values, regress_values, \"r-\")\n",
    "\n",
    "plt.xlabel(\"Unemployment Rate (%)\")\n",
    "plt.ylabel(\"Suicide Rate\")\n",
    "plt.title(\"State Unemployment Rate vs Suicide Rate 1999-2018\")\n",
    "plt.show()\n",
    "print(f\"The r-value = {rvalue}. The p-value = {pvalue}\")\n",
    "print(f\"The r-squared value is {rvalue**2}\")"
   ]
  },
  {
   "cell_type": "markdown",
   "id": "bdc9c937",
   "metadata": {},
   "source": [
    "Since the p-value is greater than 0.05, we fail to reject the null hypothesis that the slope of this regression line\n",
    "is 0. Therefore, we can say that there is no statistical significance between unemployment and suicide rate."
   ]
  },
  {
   "cell_type": "code",
   "execution_count": null,
   "id": "fb43b393",
   "metadata": {},
   "outputs": [],
   "source": [
    "#Try a regression test for a chosen year\n",
    "year_regression_test = Merge_Unemp_Sui_df.loc[Merge_Unemp_Sui_df[\"Year\"] == 2012]\n",
    "year_regression_test"
   ]
  },
  {
   "cell_type": "code",
   "execution_count": null,
   "id": "4e771b0d",
   "metadata": {},
   "outputs": [],
   "source": [
    "plt.scatter(year_regression_test[\"Unemployment Rate (%)\"], year_regression_test[\"Suicide Rate\"])\n",
    "plt.xlabel(\"Unemployment Rate (%)\")\n",
    "plt.ylabel(\"Suicide Rate\")\n",
    "plt.title(\"State Unemployment Rate vs Suicide Rate in 2012\")\n",
    "plt.show()"
   ]
  },
  {
   "cell_type": "code",
   "execution_count": null,
   "id": "c7b3eae3",
   "metadata": {},
   "outputs": [],
   "source": [
    "x_values = year_regression_test[\"Unemployment Rate (%)\"]\n",
    "y_values = year_regression_test[\"Suicide Rate\"]\n",
    "\n",
    "(slope, intercept, rvalue, pvalue, stderr) = linregress(x_values, y_values)\n",
    "regress_values = x_values * slope + intercept\n",
    "line_eq = \"y =\" + str(round(slope,2)) + \"x +\" + str(round(intercept, 2))\n",
    "plt.annotate(line_eq, (8, 25), fontsize = 15, color = \"red\")\n",
    "\n",
    "plt.scatter(x_values, y_values)\n",
    "plt.plot(x_values, regress_values, \"r-\")\n",
    "\n",
    "plt.xlabel(\"Unemployment Rate (%)\")\n",
    "plt.ylabel(\"Suicide Rate\")\n",
    "plt.title(\"State Unemployment Rate vs Suicide Rate in 2012\")\n",
    "plt.show()\n",
    "print(f\"The r-value = {rvalue}. The p-value = {pvalue}\")\n",
    "print(f\"The r-squared value is {rvalue**2}\")"
   ]
  },
  {
   "cell_type": "markdown",
   "id": "de17bede",
   "metadata": {},
   "source": [
    "Since the p-value is greater than 0.05, we fail to reject the null hypothesis that the slope of this regression line is 0. Therefore, we can say that there is no statistical significance between unemployment and suicide rate."
   ]
  },
  {
   "cell_type": "code",
   "execution_count": null,
   "id": "0c461c3a",
   "metadata": {},
   "outputs": [],
   "source": [
    "#Try a regression test for a chosen state\n",
    "state_regression_test = Merge_Unemp_Sui_df.loc[Merge_Unemp_Sui_df[\"State\"] == \"Minnesota\"]"
   ]
  },
  {
   "cell_type": "code",
   "execution_count": null,
   "id": "4bca65db",
   "metadata": {},
   "outputs": [],
   "source": [
    "x_values = state_regression_test[\"Unemployment Rate (%)\"]\n",
    "y_values = state_regression_test[\"Suicide Rate\"]\n",
    "\n",
    "(slope, intercept, rvalue, pvalue, stderr) = linregress(x_values, y_values)\n",
    "regress_values = x_values * slope + intercept\n",
    "line_eq = \"y =\" + str(round(slope,2)) + \"x +\" + str(round(intercept, 2))\n",
    "plt.annotate(line_eq, (5, 13), fontsize = 15, color = \"red\")\n",
    "\n",
    "plt.scatter(x_values, y_values)\n",
    "plt.plot(x_values, regress_values, \"r-\")\n",
    "\n",
    "plt.xlabel(\"Unemployment Rate (%)\")\n",
    "plt.ylabel(\"Suicide Rate\")\n",
    "plt.title(\"State Unemployment Rate vs Suicide Rate for Minnesota 1999-2018\")\n",
    "plt.show()\n",
    "print(f\"The r-value = {rvalue}. The p-value = {pvalue}\")\n",
    "print(f\"The r-squared value is {rvalue**2}\")"
   ]
  },
  {
   "cell_type": "markdown",
   "id": "02bb3262",
   "metadata": {},
   "source": [
    "Since the p-value is greater than 0.05, we fail to reject the null hypothesis that the slope of this regression line is 0. Therefore, we can say that there is no statistical significance between unemployment and suicide rate."
   ]
  }
 ],
 "metadata": {
  "kernelspec": {
   "display_name": "Python 3 (ipykernel)",
   "language": "python",
   "name": "python3"
  },
  "language_info": {
   "codemirror_mode": {
    "name": "ipython",
    "version": 3
   },
   "file_extension": ".py",
   "mimetype": "text/x-python",
   "name": "python",
   "nbconvert_exporter": "python",
   "pygments_lexer": "ipython3",
   "version": "3.8.13"
  }
 },
 "nbformat": 4,
 "nbformat_minor": 5
}
