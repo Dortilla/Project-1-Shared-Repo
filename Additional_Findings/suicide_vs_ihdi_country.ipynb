{
 "cells": [
  {
   "cell_type": "code",
   "execution_count": null,
   "id": "ca5c8d06",
   "metadata": {},
   "outputs": [],
   "source": [
    "# import dependencies\n",
    "import requests\n",
    "import json\n",
    "import pandas as pd\n",
    "from matplotlib import pyplot as plt\n",
    "from scipy import stats as st"
   ]
  },
  {
   "cell_type": "markdown",
   "id": "fd90d1b9",
   "metadata": {},
   "source": [
    "# WHO Data Exploration"
   ]
  },
  {
   "cell_type": "code",
   "execution_count": null,
   "id": "2aa542aa",
   "metadata": {},
   "outputs": [],
   "source": [
    "# Entry point for WHO's indicators\n",
    "who_url = 'https://ghoapi.azureedge.net/api/Indicator'\n",
    "\n",
    "# Initialize variable to loop through indicator list\n",
    "index = 0\n",
    "\n",
    "# Read API and print out name of every indicator with its index value\n",
    "who_data = requests.get(who_url).json()\n",
    "for indicator in who_data['value']:\n",
    "    print( index, indicator['IndicatorName'])\n",
    "    index += 1"
   ]
  },
  {
   "cell_type": "code",
   "execution_count": null,
   "id": "e8c45b28",
   "metadata": {},
   "outputs": [],
   "source": [
    "who_data['value'][665]"
   ]
  },
  {
   "cell_type": "code",
   "execution_count": null,
   "id": "995efa7b",
   "metadata": {},
   "outputs": [],
   "source": [
    "# Create entry point for suicide rate data\n",
    "sui_url = 'https://ghoapi.azureedge.net/api/MH_12'"
   ]
  },
  {
   "cell_type": "code",
   "execution_count": null,
   "id": "1649465d",
   "metadata": {},
   "outputs": [],
   "source": [
    "# Read data from API\n",
    "sui_data = requests.get(sui_url).json()\n",
    "sui_data"
   ]
  },
  {
   "cell_type": "code",
   "execution_count": null,
   "id": "3a91b4a9",
   "metadata": {},
   "outputs": [],
   "source": [
    "len(sui_data['value'])"
   ]
  },
  {
   "cell_type": "code",
   "execution_count": null,
   "id": "f44e5a1b",
   "metadata": {},
   "outputs": [],
   "source": [
    "# Initialize dictionary\n",
    "sui_dict = {'iso3': [], 'year': [], 'suicide rate': [], 'sex': []}"
   ]
  },
  {
   "cell_type": "code",
   "execution_count": null,
   "id": "e59a5a3a",
   "metadata": {},
   "outputs": [],
   "source": [
    "# Loop through json items to store data in dictionary\n",
    "for entry in sui_data['value']:\n",
    "    sui_dict['iso3'].append(entry['SpatialDim'])\n",
    "    sui_dict['year'].append(entry['TimeDim'])\n",
    "    sui_dict['suicide rate'].append(entry['NumericValue'])\n",
    "    sui_dict['sex'].append(entry['Dim1'])"
   ]
  },
  {
   "cell_type": "code",
   "execution_count": null,
   "id": "bf5ca08f",
   "metadata": {},
   "outputs": [],
   "source": [
    "# Create dataframe\n",
    "sui_df = pd.DataFrame(sui_dict)\n",
    "sui_df.head()"
   ]
  },
  {
   "cell_type": "code",
   "execution_count": null,
   "id": "7af8bf20",
   "metadata": {},
   "outputs": [],
   "source": [
    "# Only want both sex values - loc 'sex' == 'BTSX', then drop sex column it's not needed\n",
    "sui_df = sui_df.loc[sui_df['sex'] == 'BTSX']\n",
    "sui_df = sui_df.drop(columns = 'sex')"
   ]
  },
  {
   "cell_type": "code",
   "execution_count": null,
   "id": "7f56803c",
   "metadata": {},
   "outputs": [],
   "source": [
    "# Number of countries and number of years with data for each country - 194 countries/regions with 20 years of data\n",
    "sui_df['iso3'].value_counts()"
   ]
  },
  {
   "cell_type": "code",
   "execution_count": null,
   "id": "a3d94e98",
   "metadata": {},
   "outputs": [],
   "source": [
    "sui_df.info()"
   ]
  },
  {
   "cell_type": "code",
   "execution_count": null,
   "id": "96e3fc9e",
   "metadata": {},
   "outputs": [],
   "source": [
    "index_sui = sui_df.set_index('iso3')"
   ]
  },
  {
   "cell_type": "code",
   "execution_count": null,
   "id": "e9c61a26",
   "metadata": {},
   "outputs": [],
   "source": [
    "# remove entries of unneeded years from the data set\n",
    "index_sui = index_sui.loc[(index_sui['year'] > 2009)]\n",
    "index_sui = index_sui.loc[(index_sui['year'] < 2020)]\n",
    "cleaned_sui_df = index_sui.reset_index()\n",
    "\n",
    "# check to make sure only the needed entries remain\n",
    "cleaned_sui_df['year'].value_counts()"
   ]
  },
  {
   "cell_type": "markdown",
   "id": "1eacae2f",
   "metadata": {},
   "source": [
    "# IHDI DataFrame"
   ]
  },
  {
   "cell_type": "code",
   "execution_count": null,
   "id": "a4626ccc",
   "metadata": {},
   "outputs": [],
   "source": [
    "# Designate IHDI data location\n",
    "ihdi_data_path = 'Resources/country_ihdi_UNDP.csv'\n",
    "# Read IHDI data\n",
    "ihdi_data = pd.read_csv(ihdi_data_path)\n",
    "ihdi_data"
   ]
  },
  {
   "cell_type": "code",
   "execution_count": null,
   "id": "b1a5d795",
   "metadata": {},
   "outputs": [],
   "source": [
    "# Check number of countries \n",
    "ihdi_data['iso3'].value_counts()"
   ]
  },
  {
   "cell_type": "code",
   "execution_count": null,
   "id": "3f8729f5",
   "metadata": {},
   "outputs": [],
   "source": [
    "ihdi_data.tail(15)"
   ]
  },
  {
   "cell_type": "code",
   "execution_count": null,
   "id": "526d1b27",
   "metadata": {},
   "outputs": [],
   "source": [
    "\n",
    "cleaned_ihdi = ihdi_data.drop(ihdi_data.index[195:])\n",
    "\n",
    "cleaned_ihdi.tail()"
   ]
  },
  {
   "cell_type": "code",
   "execution_count": null,
   "id": "835024f0",
   "metadata": {},
   "outputs": [],
   "source": [
    "# create new dataframe with just hdi / ihdi entries\n",
    "# create dictionary with iso3 code, country, and hdi/ihdi values\n",
    "ihdi_dic = {'iso3': [], 'country': [], \"hdi_2010\" : [], \"hdi_2011\" : [], \"hdi_2012\" : [], \"hdi_2013\" : [], \"hdi_2014\" : [], \"hdi_2015\" : [], \"hdi_2016\" : [], \"hdi_2017\" : [], \"hdi_2018\" : [], \"hdi_2019\" : [], \"ihdi_2010\" : [], \"ihdi_2011\" : [], \"ihdi_2012\" : [], \"ihdi_2013\" : [], \"ihdi_2014\" : [], \"ihdi_2015\" : [], \"ihdi_2016\" : [], \"ihdi_2017\" : [], \"ihdi_2018\" : [], \"ihdi_2019\" : []}\n",
    "for entry in range(len(cleaned_ihdi)):\n",
    "    ihdi_dic['iso3'].append(cleaned_ihdi.loc[entry, 'iso3'])\n",
    "    ihdi_dic['country'].append(cleaned_ihdi.loc[entry, 'country'])\n",
    "    ihdi_dic['hdi_2010'].append(cleaned_ihdi.loc[entry, 'hdi_2010'])\n",
    "    ihdi_dic['hdi_2011'].append(cleaned_ihdi.loc[entry, 'hdi_2011'])\n",
    "    ihdi_dic['hdi_2012'].append(cleaned_ihdi.loc[entry, 'hdi_2012'])\n",
    "    ihdi_dic['hdi_2013'].append(cleaned_ihdi.loc[entry, 'hdi_2013'])\n",
    "    ihdi_dic['hdi_2014'].append(cleaned_ihdi.loc[entry, 'hdi_2014'])\n",
    "    ihdi_dic['hdi_2015'].append(cleaned_ihdi.loc[entry, 'hdi_2015'])\n",
    "    ihdi_dic['hdi_2016'].append(cleaned_ihdi.loc[entry, 'hdi_2016'])\n",
    "    ihdi_dic['hdi_2017'].append(cleaned_ihdi.loc[entry, 'hdi_2017'])\n",
    "    ihdi_dic['hdi_2018'].append(cleaned_ihdi.loc[entry, 'hdi_2018'])\n",
    "    ihdi_dic['hdi_2019'].append(cleaned_ihdi.loc[entry, 'hdi_2019'])\n",
    "    ihdi_dic['ihdi_2010'].append(cleaned_ihdi.loc[entry, 'ihdi_2010'])\n",
    "    ihdi_dic['ihdi_2011'].append(cleaned_ihdi.loc[entry, 'ihdi_2011'])\n",
    "    ihdi_dic['ihdi_2012'].append(cleaned_ihdi.loc[entry, 'ihdi_2012'])\n",
    "    ihdi_dic['ihdi_2013'].append(cleaned_ihdi.loc[entry, 'ihdi_2013'])\n",
    "    ihdi_dic['ihdi_2014'].append(cleaned_ihdi.loc[entry, 'ihdi_2014'])\n",
    "    ihdi_dic['ihdi_2015'].append(cleaned_ihdi.loc[entry, 'ihdi_2015'])\n",
    "    ihdi_dic['ihdi_2016'].append(cleaned_ihdi.loc[entry, 'ihdi_2016'])\n",
    "    ihdi_dic['ihdi_2017'].append(cleaned_ihdi.loc[entry, 'ihdi_2017'])\n",
    "    ihdi_dic['ihdi_2018'].append(cleaned_ihdi.loc[entry, 'ihdi_2018'])\n",
    "    ihdi_dic['ihdi_2019'].append(cleaned_ihdi.loc[entry, 'ihdi_2019'])\n",
    "cleaned_ihdiv2 = pd.DataFrame(ihdi_dic)  "
   ]
  },
  {
   "cell_type": "code",
   "execution_count": null,
   "id": "16a4b3b6",
   "metadata": {},
   "outputs": [],
   "source": [
    "cleaned_ihdiv2"
   ]
  },
  {
   "cell_type": "code",
   "execution_count": null,
   "id": "78ac1eef",
   "metadata": {},
   "outputs": [],
   "source": [
    "# separate year from hdi\n",
    "hdi = cleaned_ihdiv2.melt(id_vars = ['iso3', 'country'], value_vars = ['hdi_2010', 'hdi_2011', 'hdi_2012', 'hdi_2013',\n",
    "       'hdi_2014', 'hdi_2015', 'hdi_2016', 'hdi_2017', 'hdi_2018', 'hdi_2019'], var_name = 'year', value_name = 'hdi')"
   ]
  },
  {
   "cell_type": "code",
   "execution_count": null,
   "id": "fbc0a457",
   "metadata": {},
   "outputs": [],
   "source": [
    "hdi['year'] = hdi['year'].str.split('_',expand=True)[1]\n",
    "hdi.head()"
   ]
  },
  {
   "cell_type": "code",
   "execution_count": null,
   "id": "645e9460",
   "metadata": {},
   "outputs": [],
   "source": [
    "# separate year from ihdi\n",
    "ihdi = cleaned_ihdiv2.melt(id_vars = ['iso3', 'country'], value_vars = ['ihdi_2010', 'ihdi_2011', 'ihdi_2012', 'ihdi_2013',\n",
    "       'ihdi_2014', 'ihdi_2015', 'ihdi_2016', 'ihdi_2017', 'ihdi_2018', 'ihdi_2019'], var_name = 'year', value_name = 'ihdi')\n",
    "ihdi.head()"
   ]
  },
  {
   "cell_type": "code",
   "execution_count": null,
   "id": "82059671",
   "metadata": {},
   "outputs": [],
   "source": [
    "ihdi['year'] = ihdi['year'].str.split('_', expand=True)[1]\n",
    "ihdi.head()"
   ]
  },
  {
   "cell_type": "code",
   "execution_count": null,
   "id": "f60d9791",
   "metadata": {
    "scrolled": false
   },
   "outputs": [],
   "source": [
    "# merge dataframes with separated hdi/ihdi and year entries\n",
    "final_ihdi_df = pd.merge(ihdi, hdi, on=['iso3','country','year'], how = 'inner')"
   ]
  },
  {
   "cell_type": "code",
   "execution_count": null,
   "id": "9e32b732",
   "metadata": {},
   "outputs": [],
   "source": [
    "final_ihdi_df.info()"
   ]
  },
  {
   "cell_type": "code",
   "execution_count": null,
   "id": "729909a2",
   "metadata": {},
   "outputs": [],
   "source": [
    "# set 'year' type to int64 (for merging with cleaned_sui_df)\n",
    "final_ihdi_df = final_ihdi_df.astype({'year': 'int64'})"
   ]
  },
  {
   "cell_type": "markdown",
   "id": "3c82d8d4",
   "metadata": {},
   "source": [
    "# Merge DataFrames"
   ]
  },
  {
   "cell_type": "code",
   "execution_count": null,
   "id": "4be9cc5c",
   "metadata": {
    "scrolled": true
   },
   "outputs": [],
   "source": [
    "# merge cleaned_sui_df with final_ihdi_df on year and iso3 code\n",
    "sui_vs_ihdi = pd.merge(cleaned_sui_df, final_ihdi_df, on=['year','iso3'], how='inner')\n",
    "sui_vs_ihdi"
   ]
  },
  {
   "cell_type": "code",
   "execution_count": null,
   "id": "dc8ad475",
   "metadata": {},
   "outputs": [],
   "source": [
    "# finding how many non-null entries\n",
    "sui_vs_ihdi.info()"
   ]
  },
  {
   "cell_type": "code",
   "execution_count": null,
   "id": "1db3feb6",
   "metadata": {},
   "outputs": [],
   "source": [
    "# dropping null entries\n",
    "sui_vs_ihdi.dropna(inplace=True)"
   ]
  },
  {
   "cell_type": "code",
   "execution_count": null,
   "id": "95515917",
   "metadata": {},
   "outputs": [],
   "source": [
    "sui_vs_ihdi.info()"
   ]
  },
  {
   "cell_type": "code",
   "execution_count": null,
   "id": "2f846e2a",
   "metadata": {},
   "outputs": [],
   "source": [
    "# checking how many entries for each year\n",
    "sui_vs_ihdi['year'].value_counts()"
   ]
  },
  {
   "cell_type": "markdown",
   "id": "a64f2edd",
   "metadata": {},
   "source": [
    "# Visualize and Analyze HDI vs. Suicide Rates"
   ]
  },
  {
   "cell_type": "code",
   "execution_count": null,
   "id": "587eeead",
   "metadata": {},
   "outputs": [],
   "source": [
    "# create scatter plot of hdi vs suicide rate\n",
    "plt.scatter(sui_vs_ihdi['hdi'], sui_vs_ihdi['suicide rate'], s=1)\n",
    "plt.xlim(0, max(sui_vs_ihdi['hdi']))\n",
    "plt.ylim(0, max(sui_vs_ihdi['suicide rate']))"
   ]
  },
  {
   "cell_type": "code",
   "execution_count": null,
   "id": "1e0ff0dc",
   "metadata": {},
   "outputs": [],
   "source": [
    "m, b, r, p, e = st.linregress(sui_vs_ihdi['hdi'], sui_vs_ihdi['suicide rate'])"
   ]
  },
  {
   "cell_type": "code",
   "execution_count": null,
   "id": "b4afae88",
   "metadata": {},
   "outputs": [],
   "source": [
    "m, b"
   ]
  },
  {
   "cell_type": "code",
   "execution_count": null,
   "id": "575bb9a0",
   "metadata": {},
   "outputs": [],
   "source": [
    "sui_hdi_regress = m * sui_vs_ihdi['hdi'] + b\n",
    "\n",
    "hdi_r_squared_str = \"{}\\u00b2\".format('r')\n",
    "hdi_p_r_val_str = f'pvalue={\"{:.2e}\".format(p)}, {hdi_r_squared_str}={round(r*r,2)}'\n",
    "\n",
    "plt.scatter(sui_vs_ihdi['hdi'], sui_vs_ihdi['suicide rate'], s=1)\n",
    "plt.annotate(hdi_p_r_val_str,(0.6, 100), c='r')\n",
    "plt.xlabel('HDI Rating')\n",
    "plt.ylabel('Suicide Rate (%)')\n",
    "plt.title('HDI Rating of Country vs Suicide Rate')\n",
    "plt.plot(sui_vs_ihdi['hdi'], sui_hdi_regress, c='red')\n",
    "plt.savefig('Images/HDI_vs_Suicide_Rate.jpg', format='jpg')\n",
    "plt.show()"
   ]
  },
  {
   "cell_type": "code",
   "execution_count": null,
   "id": "27d68045",
   "metadata": {},
   "outputs": [],
   "source": [
    "figure, axeses = plt.subplots(nrows=2, ncols=5, figsize=(15,10), sharex=True, sharey=True)\n",
    "sui_vs_ihdi.sort_values('year', inplace=True)\n",
    "for axes, year in zip(axeses.flat, sui_vs_ihdi['year'].unique()):\n",
    "    sui_vs_hdi_by_year = sui_vs_ihdi.loc[sui_vs_ihdi['year'] == year]\n",
    "    m, b, r, p, e = st.linregress(sui_vs_hdi_by_year['hdi'], sui_vs_hdi_by_year['suicide rate'])\n",
    "    best_fit = m*sui_vs_hdi_by_year['hdi'] + b\n",
    "    best_fit_eq = f'y={round(m,1)}*x+{round(b)}'\n",
    "    axes.plot(sui_vs_hdi_by_year['hdi'], best_fit, c='red')\n",
    "    axes.annotate(best_fit_eq, (10, 50), c='red')\n",
    "    axes.set_title(year)\n",
    "    axes.scatter(sui_vs_hdi_by_year['hdi'], sui_vs_hdi_by_year['suicide rate'],  s=1)"
   ]
  },
  {
   "cell_type": "markdown",
   "id": "27ff7555",
   "metadata": {},
   "source": [
    "# Visualize and Analyze IHDI vs. Suicide Rates"
   ]
  },
  {
   "cell_type": "code",
   "execution_count": null,
   "id": "02d25ee3",
   "metadata": {},
   "outputs": [],
   "source": [
    "plt.scatter(sui_vs_ihdi['ihdi'], sui_vs_ihdi['suicide rate'], s=1)\n",
    "plt.xlim(0, max(sui_vs_ihdi['ihdi']))\n",
    "plt.ylim(0, max(sui_vs_ihdi['suicide rate']))"
   ]
  },
  {
   "cell_type": "code",
   "execution_count": null,
   "id": "3ad806dd",
   "metadata": {},
   "outputs": [],
   "source": [
    "m, b, r, p, e = st.linregress(sui_vs_ihdi['ihdi'], sui_vs_ihdi['suicide rate'])"
   ]
  },
  {
   "cell_type": "code",
   "execution_count": null,
   "id": "e47595fa",
   "metadata": {},
   "outputs": [],
   "source": [
    "m, b"
   ]
  },
  {
   "cell_type": "code",
   "execution_count": null,
   "id": "851a4a0f",
   "metadata": {},
   "outputs": [],
   "source": [
    "sui_ihdi_regress = m * sui_vs_ihdi['ihdi'] + b\n",
    "ihdi_r_squared_str = \"{}\\u00b2\".format('r')\n",
    "ihdi_p_r_val_str = f'pvalue={\"{:.2e}\".format(p)}, {ihdi_r_squared_str}={round(r*r,2)}'\n",
    "\n",
    "plt.scatter(sui_vs_ihdi['ihdi'], sui_vs_ihdi['suicide rate'], s=1)\n",
    "plt.plot(sui_vs_ihdi['ihdi'], sui_ihdi_regress, c='red')\n",
    "plt.annotate(ihdi_p_r_val_str,(0.5, 100), c='r')\n",
    "plt.xlabel('IHDI Rating')\n",
    "plt.ylabel('Suicide Rate (%)')\n",
    "plt.title('IHDI Rating of Country vs Suicide Rate')\n",
    "plt.savefig('Images/IHDI_vs_Suicide_Rate.png', format='png')\n",
    "plt.show()"
   ]
  },
  {
   "cell_type": "code",
   "execution_count": null,
   "id": "16b171fa",
   "metadata": {},
   "outputs": [],
   "source": [
    "figure, axeses = plt.subplots(nrows=2, ncols=5, figsize=(15,10), sharex=True, sharey=True)\n",
    "sui_vs_ihdi.sort_values('year', inplace=True)\n",
    "for axes, year in zip(axeses.flat, sui_vs_ihdi['year'].unique()):\n",
    "    sui_vs_ihdi_by_year = sui_vs_ihdi.loc[sui_vs_ihdi['year'] == year]\n",
    "    m, b, r, p, e = st.linregress(sui_vs_ihdi_by_year['ihdi'], sui_vs_ihdi_by_year['suicide rate'])\n",
    "    best_fit = m*sui_vs_ihdi_by_year['ihdi'] + b\n",
    "    best_fit_eq = f'y={round(m,1)}*x+{round(b)}'\n",
    "    axes.plot(sui_vs_ihdi_by_year['ihdi'], best_fit, c='red')\n",
    "    axes.annotate(best_fit_eq, (10, 50), c='red')\n",
    "    axes.set_title(year)\n",
    "    axes.scatter(sui_vs_ihdi_by_year['ihdi'], sui_vs_ihdi_by_year['suicide rate'],  s=1)"
   ]
  }
 ],
 "metadata": {
  "kernelspec": {
   "display_name": "Python 3 (ipykernel)",
   "language": "python",
   "name": "python3"
  },
  "language_info": {
   "codemirror_mode": {
    "name": "ipython",
    "version": 3
   },
   "file_extension": ".py",
   "mimetype": "text/x-python",
   "name": "python",
   "nbconvert_exporter": "python",
   "pygments_lexer": "ipython3",
   "version": "3.8.13"
  }
 },
 "nbformat": 4,
 "nbformat_minor": 5
}
