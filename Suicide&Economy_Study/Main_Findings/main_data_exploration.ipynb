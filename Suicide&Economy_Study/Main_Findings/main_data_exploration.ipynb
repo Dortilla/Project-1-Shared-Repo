{
 "cells": [
  {
   "cell_type": "markdown",
   "id": "812aa919",
   "metadata": {},
   "source": [
    "# Data Exploration\n",
    "***\n",
    "## Overview\n",
    "This notebook uses APIs from The World Health Organization (WHO) and The World Bank to obtain datasets used to answer the projects main hypothesis questions: Do countries with higher unemployment rate also have higher suicide rates? For each API, the list of available datasets is examined and an apprpriate one is selected. Both sources provide historical data for at least 190 countires around the world. The data is called using requests and refined from a json file to a dictionary using a simple for loop. The dictionary is then converted to a dataframe using the pandas library. Then null values are dropped from each data frame and the columns at cast as the appropriate types. Lastly the dataframes are merged together so data for both suicide rates and unemployment rates are paired together by coubbtry/year in one dataframe object.\n",
    "\n",
    "This notebook also contains data exploration for country GDP data, provided by The World Bank, which is used to answer a follow up hopytheses: do countries with higher GDP have lower suicide rates?\n",
    "### Dependencies"
   ]
  },
  {
   "cell_type": "code",
   "execution_count": null,
   "id": "1cecf3c4",
   "metadata": {},
   "outputs": [],
   "source": [
    "# Dependencies\n",
    "import requests\n",
    "import pandas as pd"
   ]
  },
  {
   "cell_type": "markdown",
   "id": "4934f92a",
   "metadata": {},
   "source": [
    "## WHO Data Exploration\n",
    "Main Hypothesis is concered with suicide rates and unemployment data. The first of which WHO says they have data for. WHO has an online database, [The Global Health Observatory](https://www.who.int/data/gho), which includes 1000s of datasets (indicators). \n",
    "### WHO's Indicators Access Point\n",
    "To start, we look at the [indicator](https://ghoapi.azureedge.net/api/Indicator/) access point which list all indicators found on the The Global Health Observatory page."
   ]
  },
  {
   "cell_type": "code",
   "execution_count": null,
   "id": "08ea9529",
   "metadata": {},
   "outputs": [],
   "source": [
    "# Entry point for WHO's indicators\n",
    "who_url = 'https://ghoapi.azureedge.net/api/Indicator/'"
   ]
  },
  {
   "cell_type": "code",
   "execution_count": null,
   "id": "09ff77d8",
   "metadata": {},
   "outputs": [],
   "source": [
    "# Initialize a variable to loop through indicator list\n",
    "index = 0\n",
    "\n",
    "# Read API and print out the name of every indicator with the index value\n",
    "who_data = requests.get(who_url).json()\n",
    "for indicator in who_data['value']:\n",
    "    print( index, indicator['IndicatorName'])\n",
    "    index += 1"
   ]
  },
  {
   "cell_type": "markdown",
   "id": "91aea629",
   "metadata": {},
   "source": [
    "We find there are over 2,000 different indicators. Using a simple `crtl-f` search we narrow down the list to just indicators involving _suicide ratess_. the 665th indicator looks like the appropriate dataset to usd based on it's discription."
   ]
  },
  {
   "cell_type": "code",
   "execution_count": null,
   "id": "edfc51db",
   "metadata": {},
   "outputs": [],
   "source": [
    "who_data['value'][665]"
   ]
  },
  {
   "cell_type": "markdown",
   "id": "2a23c5c5",
   "metadata": {},
   "source": [
    "Note the rates are given as [*age standardized*](https://www.who.int/data/gho/indicator-metadata-registry/imr-details/78#:~:text=The%20age%2Dstandardized%20mortality%20rate,of%20the%20WHO%20standard%20population.) and *per 100,000 people*.\n",
    "### WHO Suicide Rates "
   ]
  },
  {
   "cell_type": "code",
   "execution_count": null,
   "id": "265a7916",
   "metadata": {},
   "outputs": [],
   "source": [
    "# Use the IndicatorCode to create entry point for suicide rates data\n",
    "sui_url = 'https://ghoapi.azureedge.net/api/MH_12'"
   ]
  },
  {
   "cell_type": "code",
   "execution_count": null,
   "id": "309a8e20",
   "metadata": {},
   "outputs": [],
   "source": [
    "# Read data from API\n",
    "sui_data = requests.get(sui_url).json()\n",
    "sui_data"
   ]
  },
  {
   "cell_type": "markdown",
   "id": "f3a9cc94",
   "metadata": {},
   "source": [
    "Note that rows of data are organized by country, year and sex. We are concerned with data by country and year but only want values measured for both sexes combined so we will drop rows with the sex specific data."
   ]
  },
  {
   "cell_type": "code",
   "execution_count": null,
   "id": "805272a5",
   "metadata": {},
   "outputs": [],
   "source": [
    "# Intialize dictionary\n",
    "sui_dict = {'country': [], 'year': [], 'suicide rate': [], 'sex': []}"
   ]
  },
  {
   "cell_type": "code",
   "execution_count": null,
   "id": "38a26847",
   "metadata": {},
   "outputs": [],
   "source": [
    "# Loop through json items to store data\n",
    "for entry in sui_data['value']:\n",
    "    sui_dict['country'].append(entry['SpatialDim'])\n",
    "    sui_dict['year'].append(entry['TimeDim'])\n",
    "    sui_dict['suicide rate'].append(entry['NumericValue'])\n",
    "    sui_dict['sex'].append(entry['Dim1'])"
   ]
  },
  {
   "cell_type": "code",
   "execution_count": null,
   "id": "5e8a58f2",
   "metadata": {},
   "outputs": [],
   "source": [
    "# Make dataframe\n",
    "sui_df = pd.DataFrame(sui_dict)\n",
    "sui_df.head()"
   ]
  },
  {
   "cell_type": "code",
   "execution_count": null,
   "id": "dc305b3f",
   "metadata": {},
   "outputs": [],
   "source": [
    "# Only want both sex values - loc 'sex' == 'BTSX', then drop sex column it's not needed\n",
    "sui_df = sui_df.loc[sui_df['sex'] == 'BTSX']\n",
    "sui_df = sui_df.drop(columns = 'sex')"
   ]
  },
  {
   "cell_type": "code",
   "execution_count": null,
   "id": "44e41589",
   "metadata": {},
   "outputs": [],
   "source": [
    "# Print data types - year is integer\n",
    "sui_df.info()"
   ]
  },
  {
   "cell_type": "markdown",
   "id": "3114b730",
   "metadata": {},
   "source": [
    "The resulting dataframe contains 3,881 rows of clean/non-null data. This data will have to be paired by country and year with data fro unemployment rate. So not all rows may be matched and thereore used."
   ]
  },
  {
   "cell_type": "markdown",
   "id": "3744f94b",
   "metadata": {},
   "source": [
    "## World Bank Data Exploration\n",
    "The second set of data required to answer the main hypothesis is country unemployment rates. [The world bank's api](https://datahelpdesk.worldbank.org/knowledgebase/articles/889392-about-the-indicators-api-documentation) provides global data on 1,000s of economic and financial indicators.\n",
    "### World Bank's Indicator Acces Point\n",
    "A similair [indicators](https://api.worldbank.org/v2/indicator?format=json&per_page=21000) access point is used to view all indicators provided by The World Bank's API."
   ]
  },
  {
   "cell_type": "code",
   "execution_count": null,
   "id": "a5fb00d9",
   "metadata": {},
   "outputs": [],
   "source": [
    "# World bank url\n",
    "wb_url = 'https://api.worldbank.org/v2/indicator?format=json&per_page=21000'\n",
    "\n",
    "# Initialize variable to store index count\n",
    "count = 0\n",
    "\n",
    "# Print out name of every \"indicator\" in world bank api to find ones of interest\n",
    "wb_data = requests.get(wb_url).json()\n",
    "for indicator in wb_data[1]:\n",
    "    print(count, indicator['name'])\n",
    "    count += 1"
   ]
  },
  {
   "cell_type": "markdown",
   "id": "5fe7b151",
   "metadata": {},
   "source": [
    "Seraching for *Unemployemnt Rate* we find indicator 9,746 has relevent data."
   ]
  },
  {
   "cell_type": "code",
   "execution_count": null,
   "id": "3f20a36d",
   "metadata": {},
   "outputs": [],
   "source": [
    "# Same thing for unemployment % ...\n",
    "wb_data[1][9746]"
   ]
  },
  {
   "cell_type": "markdown",
   "id": "0201c7eb",
   "metadata": {},
   "source": [
    "Note *working age* is defined as 15-64 years of age. \n",
    "### World Bank Unemployment Rates"
   ]
  },
  {
   "cell_type": "code",
   "execution_count": null,
   "id": "fb9b8987",
   "metadata": {},
   "outputs": [],
   "source": [
    "# Url for unemployment rate indicator\n",
    "uem_url = 'https://api.worldbank.org/v2/country/indicator/JI.UEM.1564.ZS?format=json&per_page=10000'\n",
    "\n",
    "# Load data as json\n",
    "uem_data = requests.get(uem_url).json()\n",
    "uem_data"
   ]
  },
  {
   "cell_type": "code",
   "execution_count": null,
   "id": "65b76b19",
   "metadata": {},
   "outputs": [],
   "source": [
    "# Intiate a dictionary that stores lists for country, year and unemployment rate\n",
    "uem_dict = {'country': [], 'year': [], 'unemployment rate': []}\n",
    "\n",
    "# Loop over entries in umeployment json data\n",
    "for entry in uem_data[1]:\n",
    "    \n",
    "    # Append each list in the dictionary with values from current entry\n",
    "    uem_dict['country'].append(entry['country']['id'])\n",
    "    uem_dict['year'].append(entry['date'])\n",
    "    uem_dict['unemployment rate'].append(entry['value'])\n",
    "\n",
    "# Load the dictionary as a dataframe\n",
    "uem_df = pd.DataFrame(uem_dict)\n",
    "uem_df.head()"
   ]
  },
  {
   "cell_type": "code",
   "execution_count": null,
   "id": "454d8545",
   "metadata": {},
   "outputs": [],
   "source": [
    "# Check for missing data and how data is stored\n",
    "uem_df.info()"
   ]
  },
  {
   "cell_type": "markdown",
   "id": "5ba98d76",
   "metadata": {},
   "source": [
    "Note that year is stored as a string (object). We will recast this as an integer to make merging with the suicide rates dataframe possible. Also, Unemployment rate only has valid data for 1,413 of the total 8,262 entries. This is most likely that the JOIN database did not have data for certain countriy, year pairs. We drop this data and assume that the missing data does not result in a systematic error (i.e. lack of reporting is not correlated with country unemployment rate.) "
   ]
  },
  {
   "cell_type": "code",
   "execution_count": null,
   "id": "06266fbe",
   "metadata": {},
   "outputs": [],
   "source": [
    "uem_df['year'] = uem_df['year'].astype(int)"
   ]
  },
  {
   "cell_type": "code",
   "execution_count": null,
   "id": "c48ecf0e",
   "metadata": {},
   "outputs": [],
   "source": [
    "uem_df.dropna(inplace=True)\n",
    "uem_df.info()"
   ]
  },
  {
   "cell_type": "markdown",
   "id": "e73d89d5",
   "metadata": {},
   "source": [
    "### World Bank GDP per Capita\n",
    "The same steps are repeated to obtain GDP per Capita data. The Indicator was found with a simliar search."
   ]
  },
  {
   "cell_type": "code",
   "execution_count": null,
   "id": "7a447b82",
   "metadata": {},
   "outputs": [],
   "source": [
    "# Use gdp/capita id code by country to get url\n",
    "gdp_url = 'https://api.worldbank.org/v2/country/indicator/NY.GDP.PCAP.CD?format=json&per_page=20000'\n",
    "gdp_data = requests.get(gdp_url).json()\n",
    "gdp_data"
   ]
  },
  {
   "cell_type": "code",
   "execution_count": null,
   "id": "81aa73b8",
   "metadata": {},
   "outputs": [],
   "source": [
    "# Intialize dictionary to store columns of gdp_df\n",
    "gdp_dict = {'country': [], 'year': [], 'gdp per capita': []}\n",
    "\n",
    "# Loop through json and store values to dict\n",
    "for entry in gdp_data[1]:\n",
    "    gdp_dict['country'].append(entry['countryiso3code'])\n",
    "    gdp_dict['year'].append(entry['date'])\n",
    "    gdp_dict['gdp per capita'].append(entry['value'])"
   ]
  },
  {
   "cell_type": "code",
   "execution_count": null,
   "id": "93130773",
   "metadata": {},
   "outputs": [],
   "source": [
    "# Convert dict to df\n",
    "gdp_df = pd.DataFrame(gdp_dict)\n",
    "gdp_df.head()"
   ]
  },
  {
   "cell_type": "code",
   "execution_count": null,
   "id": "a523cd13",
   "metadata": {},
   "outputs": [],
   "source": [
    "# Number of non-null values and data types\n",
    "gdp_df.info()"
   ]
  },
  {
   "cell_type": "markdown",
   "id": "17f4063e",
   "metadata": {},
   "source": [
    "Note that the year column is casted as string (object) and GDP/capita only has data for 13,115 of the total 16,492 possible. To make merging with the suicide rates dataframe possible, year is recasted as integer. The null values are also dropped resluting in less data for certain countriess."
   ]
  },
  {
   "cell_type": "code",
   "execution_count": null,
   "id": "b715c18e",
   "metadata": {},
   "outputs": [],
   "source": [
    "# 'year' column is object type -> int to match other datasets\n",
    "gdp_df['year'] = gdp_df['year'].astype(int)"
   ]
  },
  {
   "cell_type": "code",
   "execution_count": null,
   "id": "c3380226",
   "metadata": {},
   "outputs": [],
   "source": [
    "gdp_df = gdp_df.dropna()\n",
    "gdp_df.info()"
   ]
  },
  {
   "cell_type": "markdown",
   "id": "aa5b3356",
   "metadata": {},
   "source": [
    "## Merge DataFrames\n",
    "The Suicide rates dataframe has 3,881 rows of data but the unemployment rates datframe only has 1,413 rows of clean data. To make analysis easier, we merge both dataframes together and only keep rows where we have data for both suicide rates and unemployment rates. The result is a dataframe that stores countries's unemployment rates and suicide rates by country and year, where data is available. "
   ]
  },
  {
   "cell_type": "code",
   "execution_count": null,
   "id": "08bd9a3a",
   "metadata": {},
   "outputs": [],
   "source": [
    "# Merge suicide rates and unemployment on country and year columns and only keep rows that appear in both of the original dfs.\n",
    "sui_vs_uem = pd.merge(sui_df, uem_df, on=['country','year'], how='inner')\n",
    "sui_vs_uem"
   ]
  },
  {
   "cell_type": "markdown",
   "id": "a5175d2e",
   "metadata": {},
   "source": [
    "A total of 1,100 rows of data."
   ]
  },
  {
   "cell_type": "code",
   "execution_count": null,
   "id": "c4ed10ca",
   "metadata": {},
   "outputs": [],
   "source": [
    "# Drop Na and check for amount of data\n",
    "sui_vs_uem = sui_vs_uem.dropna()\n",
    "sui_vs_uem['country'].value_counts()"
   ]
  },
  {
   "cell_type": "code",
   "execution_count": null,
   "id": "56ff0096",
   "metadata": {},
   "outputs": [],
   "source": [
    "# How many counties only have 1 years worth of data\n",
    "(sui_vs_uem['country'].value_counts() == 1).sum()"
   ]
  },
  {
   "cell_type": "markdown",
   "id": "8d2eeebb",
   "metadata": {},
   "source": [
    "Note that there are 24 countries where data is only avaible for 1 year.\n",
    "\n",
    "The same thing is repeated for GDP and suicide rates."
   ]
  },
  {
   "cell_type": "code",
   "execution_count": null,
   "id": "73edcbeb",
   "metadata": {},
   "outputs": [],
   "source": [
    "# Merge suicide rates and gdp on country and year columns, only keeping inclusive (inner) rows\n",
    "sui_vs_gdp = pd.merge(sui_df, gdp_df, on=['country','year'], how='inner')\n",
    "sui_vs_gdp"
   ]
  },
  {
   "cell_type": "code",
   "execution_count": null,
   "id": "ad46987d",
   "metadata": {},
   "outputs": [],
   "source": [
    "# See how many years of data for each country - 182 countries with at least 7 years of data\n",
    "sui_vs_gdp['country'].value_counts()"
   ]
  },
  {
   "cell_type": "markdown",
   "id": "b5156d80",
   "metadata": {},
   "source": [
    "Note 182 total countires, 180 of which have data fro 12 years or more. "
   ]
  },
  {
   "cell_type": "markdown",
   "id": "74ce6bf7",
   "metadata": {},
   "source": [
    "## Save Cleaned up data as CSV files\n",
    "The two cleaned up dataframes are saved to .csv files so they can be used in the main_analysis.ipynb"
   ]
  },
  {
   "cell_type": "code",
   "execution_count": null,
   "id": "24440e96",
   "metadata": {},
   "outputs": [],
   "source": [
    "sui_vs_uem.to_csv('Clean_Data/suicide_vs_unemployment_clean', index=False)\n",
    "sui_vs_gdp.to_csv('Clean_Data/suicide_vs_gdp_clean', index=False)"
   ]
  }
 ],
 "metadata": {
  "kernelspec": {
   "display_name": "Python 3 (ipykernel)",
   "language": "python",
   "name": "python3"
  },
  "language_info": {
   "codemirror_mode": {
    "name": "ipython",
    "version": 3
   },
   "file_extension": ".py",
   "mimetype": "text/x-python",
   "name": "python",
   "nbconvert_exporter": "python",
   "pygments_lexer": "ipython3",
   "version": "3.8.13"
  }
 },
 "nbformat": 4,
 "nbformat_minor": 5
}
