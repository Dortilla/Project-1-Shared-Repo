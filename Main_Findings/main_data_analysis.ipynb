{
 "cells": [
  {
   "cell_type": "markdown",
   "id": "7b3a7251",
   "metadata": {},
   "source": [
    "# Analysis and Findings\n",
    "***\n",
    "## Overview\n",
    "The main_data_exploration.ipynb notebook aquired data sources and cleaned them up for analysis. This notebook takes the cleaned dataframes and uses them to answer the main hypthesis question: do countries with higher unemployment rate have higher suicide rates? After loading in the data, two functions, one for plotting histograms and the other for scatterplots, are defined. Each function is called on the suicide and unemployment rates data to produce graphics that explain the data. A linear regression is also provided which tested if the to quantities are correlated.\n",
    "### Dependecies"
   ]
  },
  {
   "cell_type": "code",
   "execution_count": null,
   "id": "2d9df8a5",
   "metadata": {},
   "outputs": [],
   "source": [
    "# Import dependencies\n",
    "import pandas as pd\n",
    "from matplotlib import pyplot as plt\n",
    "from scipy import stats as st"
   ]
  },
  {
   "cell_type": "markdown",
   "id": "a1daf7ad",
   "metadata": {},
   "source": [
    "### Load Data"
   ]
  },
  {
   "cell_type": "markdown",
   "id": "0e4faf40",
   "metadata": {},
   "source": []
  },
  {
   "cell_type": "code",
   "execution_count": null,
   "id": "0fe9fd52",
   "metadata": {},
   "outputs": [],
   "source": [
    "# Load df from main_data_exploration.ipynb\n",
    "sui_vs_uem = pd.read_csv('Clean_Data/suicide_vs_unemployment_clean')\n",
    "\n",
    "# Create two series, one for suicide rates and one for unemployment rate\n",
    "sui_u = sui_vs_uem['suicide rate']\n",
    "uem = sui_vs_uem['unemployment rate']\n",
    "\n",
    "# Load df from main_data_exploration.ipynb\n",
    "sui_vs_gdp = pd.read_csv('Clean_Data/suicide_vs_gdp_clean')\n",
    "\n",
    "# Create two series, one for suicide rates and one for gdp per capita\n",
    "sui_g = sui_vs_gdp['suicide rate']\n",
    "gdp = sui_vs_gdp['gdp per capita']"
   ]
  },
  {
   "cell_type": "markdown",
   "id": "3d211642",
   "metadata": {},
   "source": [
    "##  Build Functions to Analyse Data"
   ]
  },
  {
   "cell_type": "code",
   "execution_count": null,
   "id": "826aefae",
   "metadata": {},
   "outputs": [],
   "source": [
    "# Build function that prints histogram for givin series:\n",
    "# series is the series used to create the histogram, xlim is optional maximum x value displayed, \n",
    "# bin_count is optional number of bins (default is 100), mean is boolean to display mean (default is True)\n",
    "def hist(series, xlim=-1, bin_count=100, mean=True):\n",
    "\n",
    "    # If statement to handle default xlim value (-1 is default argument if no xlim is given)\n",
    "    if xlim == -1:\n",
    "        \n",
    "        # Set xlim to the maximun x value cast as an int\n",
    "        xlim = int(round(max(series),0))\n",
    "\n",
    "    # Compute bin width as lim/count *does not need to be int   \n",
    "    bin_width = xlim/bin_count\n",
    "    \n",
    "    # Define list for bins\n",
    "    bins = [bin_width*x for x in range(bin_count)]\n",
    "\n",
    "    # Plot histogram and store the counts as variable\n",
    "    counts = plt.hist(series, bins=bins)[0]\n",
    "\n",
    "    # Define y limit as counts rounded up to nearest 10\n",
    "    ylim = round(max(counts), -1) + 10\n",
    "    \n",
    "    # Set plot limits\n",
    "    plt.xlim(0, xlim)\n",
    "    plt.ylim(0, ylim)\n",
    "    \n",
    "    # If statement for mean: only print if True\n",
    "    if mean:\n",
    "        \n",
    "        # Compute mean\n",
    "        mean_value = series.mean()\n",
    "        median_value = series.median()\n",
    "        \n",
    "        # Plot vertical line at mean\n",
    "        plt.vlines(mean_value, 0, ylim, colors='red')\n",
    "        \n",
    "        # Print the mean value on top of the plot\n",
    "        plt.annotate(f'Mean={\"{:,.2f}\".format(mean_value)}, Median={\"{:,.2f}\".format(median_value)}', (xlim/2, ylim/2), c='red')\n",
    "\n",
    "    # Print title of histogram\n",
    "    plt.title(f'Histogram of {series.name} data')\n",
    "    plt.show()"
   ]
  },
  {
   "cell_type": "code",
   "execution_count": null,
   "id": "1e3b00a0",
   "metadata": {},
   "outputs": [],
   "source": [
    "# Define a function to perform and plot linear regression: xsereis and ysereis are the 2 series in the regression\n",
    "def linreg(xseries, yseries, ylim=60):\n",
    "    \n",
    "    # Save (unpack tuple) linear regression coefficients and statistics\n",
    "    slope, intercept, rvalue, pvalue, error = st.linregress(xseries, yseries)\n",
    "\n",
    "    # Compute y prediction (linear regression) values\n",
    "    y_prediction = slope * xseries + intercept\n",
    "\n",
    "    # Save strings for r squared and y hat charectors\n",
    "    r_squared_str = \"{}\\u00b2\".format('r')\n",
    "    y_hat_str = '\\u0177'\n",
    "    \n",
    "    # Save a string that shows eqaution on line and regression statistics\n",
    "    y_prediction_str = f'{y_hat_str}={round(slope,2)}*x+{round(intercept,2)}, pvalue={\"{:.2e}\".format(pvalue)}, {r_squared_str}={round(rvalue*rvalue,2)}'\n",
    "    \n",
    "    # Plot scatter plot of x and y series\n",
    "    plt.scatter(xseries, yseries, s=1)\n",
    "    \n",
    "    # Title, axes limits and axes names\n",
    "    plt.title(f'Conutry {yseries.name} vs {xseries.name}')\n",
    "    plt.xlim(0, max(xseries))\n",
    "    plt.ylim(0,ylim)\n",
    "    plt.xlabel(xseries.name)\n",
    "    plt.ylabel(yseries.name)\n",
    "    \n",
    "    # Plot regression line and display text of line equation and statistics\n",
    "    plt.plot(xseries, y_prediction, c='red')\n",
    "    plt.annotate(y_prediction_str, (max(xseries)/20, ylim*11/12), c='red')\n",
    "    plt.show()"
   ]
  },
  {
   "cell_type": "markdown",
   "id": "9ca8d525",
   "metadata": {},
   "source": [
    "## Country Suicide and Unemployment Rates Analysis\n",
    "As stated the main hypothesis questions we are answering is: do countries with higher unemployment rate have higher suicide rates? This section first looks at how the data sets are distributed and then looks are their correlation.\n",
    "### Country Suicide and Unemployment Rate Distributions"
   ]
  },
  {
   "cell_type": "code",
   "execution_count": null,
   "id": "8c1db61b",
   "metadata": {},
   "outputs": [],
   "source": [
    "# Plot histograms for suicide and uemployment rates\n",
    "hist(sui_u, xlim=50)\n",
    "hist(uem)"
   ]
  },
  {
   "cell_type": "markdown",
   "id": "48355582",
   "metadata": {},
   "source": [
    "It is worth noting that both distributions are scewed right - there is a tail of values much higher than the median that pulls the mean up higher. While some of these tial values could be consider outliers, it is important to keep all the data and look for outliers on in the scatter plot between both quanities.  "
   ]
  },
  {
   "cell_type": "code",
   "execution_count": null,
   "id": "6a87a762",
   "metadata": {},
   "outputs": [],
   "source": [
    "# PLot linear regression for gdp and suicide rates\n",
    "linreg(uem, sui_u)"
   ]
  },
  {
   "cell_type": "markdown",
   "id": "6b03429b",
   "metadata": {},
   "source": [
    "The linear regression test resulted in a p-value of 5.55x10^-11 which is much less than alpha = 0.05 meaning the null hypothesis - the slope of country suicide rates vs country unemployment rates is 0 - can be rejected. Specifically this is saying the slope value of 0.21 is significant and discribes the correlation between the two rates. The small r squared value of 0.04 indicates that the data has a high variance and, paricularly, for a given small window of unemployment rates there is a large range of suicide rates associated with such window. The implication is that while the data has positive correlation, the linear eqution is not a great predictor."
   ]
  },
  {
   "cell_type": "markdown",
   "id": "1126fdd5",
   "metadata": {},
   "source": [
    "## Suicide Rate and Country GDP"
   ]
  },
  {
   "cell_type": "code",
   "execution_count": null,
   "id": "88d809f1",
   "metadata": {},
   "outputs": [],
   "source": [
    "# Plot histograms for suicide rates and gdps\n",
    "hist(sui_g)\n",
    "hist(gdp)"
   ]
  },
  {
   "cell_type": "markdown",
   "id": "cb50a464",
   "metadata": {},
   "source": []
  },
  {
   "cell_type": "code",
   "execution_count": null,
   "id": "efb8fec5",
   "metadata": {},
   "outputs": [],
   "source": [
    "# PLot linear regression for gdp and suicide rates\n",
    "linreg(gdp, sui_g)"
   ]
  },
  {
   "cell_type": "markdown",
   "id": "87f5949a",
   "metadata": {},
   "source": []
  },
  {
   "cell_type": "code",
   "execution_count": null,
   "id": "ee2813cf",
   "metadata": {},
   "outputs": [],
   "source": [
    "gdp_ = 0\n",
    "gdp_rec_list = []\n",
    "sui_max_list = []\n",
    "\n",
    "while gdp_ < max(sui_vs_gdp['gdp per capita']):\n",
    "    sui_max_ = max(sui_vs_gdp.loc[sui_vs_gdp['gdp per capita'] > gdp_, 'suicide rate'])\n",
    "    gdp_ = float(sui_vs_gdp.loc[sui_vs_gdp['suicide rate'] == sui_max_, 'gdp per capita'])\n",
    "    sui_max_list.append(sui_max_)\n",
    "    gdp_rec_list.append(1/gdp_)\n",
    "\n",
    "bound = pd.DataFrame({'reciprical gdp per capita': gdp_rec_list, 'boundry suicide rate': sui_max_list})\n",
    "linreg(bound['reciprical gdp per capita'], bound['boundry suicide rate'], ylim=125)"
   ]
  },
  {
   "cell_type": "markdown",
   "id": "35307c5f",
   "metadata": {},
   "source": []
  }
 ],
 "metadata": {
  "kernelspec": {
   "display_name": "Python 3 (ipykernel)",
   "language": "python",
   "name": "python3"
  },
  "language_info": {
   "codemirror_mode": {
    "name": "ipython",
    "version": 3
   },
   "file_extension": ".py",
   "mimetype": "text/x-python",
   "name": "python",
   "nbconvert_exporter": "python",
   "pygments_lexer": "ipython3",
   "version": "3.8.13"
  }
 },
 "nbformat": 4,
 "nbformat_minor": 5
}
